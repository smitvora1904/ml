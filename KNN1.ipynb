{
  "nbformat": 4,
  "nbformat_minor": 0,
  "metadata": {
    "colab": {
      "name": "KNN1.ipynb",
      "provenance": []
    },
    "kernelspec": {
      "name": "python3",
      "display_name": "Python 3"
    }
  },
  "cells": [
    {
      "cell_type": "code",
      "metadata": {
        "id": "x_WIKXrMM5J_"
      },
      "source": [
        "\n",
        "import numpy as np\n",
        "import pandas as pd\n",
        "import matplotlib.pyplot as plt\n",
        "import math"
      ],
      "execution_count": 1,
      "outputs": []
    },
    {
      "cell_type": "code",
      "metadata": {
        "id": "OfCi9eXCNNAh"
      },
      "source": [
        "url=\"https://archive.ics.uci.edu/ml/machine-learning-databases/iris/iris.data\"\n",
        "names=['sepal length','sepal width','petal length','petal width','class']\n",
        "dataset=pd.read_csv(url,names=names)"
      ],
      "execution_count": 2,
      "outputs": []
    },
    {
      "cell_type": "code",
      "metadata": {
        "colab": {
          "base_uri": "https://localhost:8080/",
          "height": 206
        },
        "id": "zDZoVYwYN66N",
        "outputId": "cb3f8815-11d6-4853-b15a-8f5c9b980f68"
      },
      "source": [
        "dataset.head()"
      ],
      "execution_count": 3,
      "outputs": [
        {
          "output_type": "execute_result",
          "data": {
            "text/html": [
              "<div>\n",
              "<style scoped>\n",
              "    .dataframe tbody tr th:only-of-type {\n",
              "        vertical-align: middle;\n",
              "    }\n",
              "\n",
              "    .dataframe tbody tr th {\n",
              "        vertical-align: top;\n",
              "    }\n",
              "\n",
              "    .dataframe thead th {\n",
              "        text-align: right;\n",
              "    }\n",
              "</style>\n",
              "<table border=\"1\" class=\"dataframe\">\n",
              "  <thead>\n",
              "    <tr style=\"text-align: right;\">\n",
              "      <th></th>\n",
              "      <th>sepal length</th>\n",
              "      <th>sepal width</th>\n",
              "      <th>petal length</th>\n",
              "      <th>petal width</th>\n",
              "      <th>class</th>\n",
              "    </tr>\n",
              "  </thead>\n",
              "  <tbody>\n",
              "    <tr>\n",
              "      <th>0</th>\n",
              "      <td>5.1</td>\n",
              "      <td>3.5</td>\n",
              "      <td>1.4</td>\n",
              "      <td>0.2</td>\n",
              "      <td>Iris-setosa</td>\n",
              "    </tr>\n",
              "    <tr>\n",
              "      <th>1</th>\n",
              "      <td>4.9</td>\n",
              "      <td>3.0</td>\n",
              "      <td>1.4</td>\n",
              "      <td>0.2</td>\n",
              "      <td>Iris-setosa</td>\n",
              "    </tr>\n",
              "    <tr>\n",
              "      <th>2</th>\n",
              "      <td>4.7</td>\n",
              "      <td>3.2</td>\n",
              "      <td>1.3</td>\n",
              "      <td>0.2</td>\n",
              "      <td>Iris-setosa</td>\n",
              "    </tr>\n",
              "    <tr>\n",
              "      <th>3</th>\n",
              "      <td>4.6</td>\n",
              "      <td>3.1</td>\n",
              "      <td>1.5</td>\n",
              "      <td>0.2</td>\n",
              "      <td>Iris-setosa</td>\n",
              "    </tr>\n",
              "    <tr>\n",
              "      <th>4</th>\n",
              "      <td>5.0</td>\n",
              "      <td>3.6</td>\n",
              "      <td>1.4</td>\n",
              "      <td>0.2</td>\n",
              "      <td>Iris-setosa</td>\n",
              "    </tr>\n",
              "  </tbody>\n",
              "</table>\n",
              "</div>"
            ],
            "text/plain": [
              "   sepal length  sepal width  petal length  petal width        class\n",
              "0           5.1          3.5           1.4          0.2  Iris-setosa\n",
              "1           4.9          3.0           1.4          0.2  Iris-setosa\n",
              "2           4.7          3.2           1.3          0.2  Iris-setosa\n",
              "3           4.6          3.1           1.5          0.2  Iris-setosa\n",
              "4           5.0          3.6           1.4          0.2  Iris-setosa"
            ]
          },
          "metadata": {
            "tags": []
          },
          "execution_count": 3
        }
      ]
    },
    {
      "cell_type": "code",
      "metadata": {
        "colab": {
          "base_uri": "https://localhost:8080/",
          "height": 206
        },
        "id": "GQOFX_21N-vF",
        "outputId": "eae2b462-2bf8-4c09-c908-3e84fc3dbe27"
      },
      "source": [
        "dataset.tail()"
      ],
      "execution_count": 4,
      "outputs": [
        {
          "output_type": "execute_result",
          "data": {
            "text/html": [
              "<div>\n",
              "<style scoped>\n",
              "    .dataframe tbody tr th:only-of-type {\n",
              "        vertical-align: middle;\n",
              "    }\n",
              "\n",
              "    .dataframe tbody tr th {\n",
              "        vertical-align: top;\n",
              "    }\n",
              "\n",
              "    .dataframe thead th {\n",
              "        text-align: right;\n",
              "    }\n",
              "</style>\n",
              "<table border=\"1\" class=\"dataframe\">\n",
              "  <thead>\n",
              "    <tr style=\"text-align: right;\">\n",
              "      <th></th>\n",
              "      <th>sepal length</th>\n",
              "      <th>sepal width</th>\n",
              "      <th>petal length</th>\n",
              "      <th>petal width</th>\n",
              "      <th>class</th>\n",
              "    </tr>\n",
              "  </thead>\n",
              "  <tbody>\n",
              "    <tr>\n",
              "      <th>145</th>\n",
              "      <td>6.7</td>\n",
              "      <td>3.0</td>\n",
              "      <td>5.2</td>\n",
              "      <td>2.3</td>\n",
              "      <td>Iris-virginica</td>\n",
              "    </tr>\n",
              "    <tr>\n",
              "      <th>146</th>\n",
              "      <td>6.3</td>\n",
              "      <td>2.5</td>\n",
              "      <td>5.0</td>\n",
              "      <td>1.9</td>\n",
              "      <td>Iris-virginica</td>\n",
              "    </tr>\n",
              "    <tr>\n",
              "      <th>147</th>\n",
              "      <td>6.5</td>\n",
              "      <td>3.0</td>\n",
              "      <td>5.2</td>\n",
              "      <td>2.0</td>\n",
              "      <td>Iris-virginica</td>\n",
              "    </tr>\n",
              "    <tr>\n",
              "      <th>148</th>\n",
              "      <td>6.2</td>\n",
              "      <td>3.4</td>\n",
              "      <td>5.4</td>\n",
              "      <td>2.3</td>\n",
              "      <td>Iris-virginica</td>\n",
              "    </tr>\n",
              "    <tr>\n",
              "      <th>149</th>\n",
              "      <td>5.9</td>\n",
              "      <td>3.0</td>\n",
              "      <td>5.1</td>\n",
              "      <td>1.8</td>\n",
              "      <td>Iris-virginica</td>\n",
              "    </tr>\n",
              "  </tbody>\n",
              "</table>\n",
              "</div>"
            ],
            "text/plain": [
              "     sepal length  sepal width  petal length  petal width           class\n",
              "145           6.7          3.0           5.2          2.3  Iris-virginica\n",
              "146           6.3          2.5           5.0          1.9  Iris-virginica\n",
              "147           6.5          3.0           5.2          2.0  Iris-virginica\n",
              "148           6.2          3.4           5.4          2.3  Iris-virginica\n",
              "149           5.9          3.0           5.1          1.8  Iris-virginica"
            ]
          },
          "metadata": {
            "tags": []
          },
          "execution_count": 4
        }
      ]
    },
    {
      "cell_type": "code",
      "metadata": {
        "colab": {
          "base_uri": "https://localhost:8080/"
        },
        "id": "G9bvzmbqN-uZ",
        "outputId": "1c324530-c516-4a78-848b-12e29500ee0d"
      },
      "source": [
        "dataset.shape"
      ],
      "execution_count": 5,
      "outputs": [
        {
          "output_type": "execute_result",
          "data": {
            "text/plain": [
              "(150, 5)"
            ]
          },
          "metadata": {
            "tags": []
          },
          "execution_count": 5
        }
      ]
    },
    {
      "cell_type": "code",
      "metadata": {
        "id": "H5PgSgZrN-iO"
      },
      "source": [
        "training=dataset.values[:,0:4]"
      ],
      "execution_count": 6,
      "outputs": []
    },
    {
      "cell_type": "code",
      "metadata": {
        "colab": {
          "base_uri": "https://localhost:8080/"
        },
        "id": "2-an_3CzN-dr",
        "outputId": "3f019c91-1fb2-4ca4-9185-3acad6467279"
      },
      "source": [
        "training"
      ],
      "execution_count": 7,
      "outputs": [
        {
          "output_type": "execute_result",
          "data": {
            "text/plain": [
              "array([[5.1, 3.5, 1.4, 0.2],\n",
              "       [4.9, 3.0, 1.4, 0.2],\n",
              "       [4.7, 3.2, 1.3, 0.2],\n",
              "       [4.6, 3.1, 1.5, 0.2],\n",
              "       [5.0, 3.6, 1.4, 0.2],\n",
              "       [5.4, 3.9, 1.7, 0.4],\n",
              "       [4.6, 3.4, 1.4, 0.3],\n",
              "       [5.0, 3.4, 1.5, 0.2],\n",
              "       [4.4, 2.9, 1.4, 0.2],\n",
              "       [4.9, 3.1, 1.5, 0.1],\n",
              "       [5.4, 3.7, 1.5, 0.2],\n",
              "       [4.8, 3.4, 1.6, 0.2],\n",
              "       [4.8, 3.0, 1.4, 0.1],\n",
              "       [4.3, 3.0, 1.1, 0.1],\n",
              "       [5.8, 4.0, 1.2, 0.2],\n",
              "       [5.7, 4.4, 1.5, 0.4],\n",
              "       [5.4, 3.9, 1.3, 0.4],\n",
              "       [5.1, 3.5, 1.4, 0.3],\n",
              "       [5.7, 3.8, 1.7, 0.3],\n",
              "       [5.1, 3.8, 1.5, 0.3],\n",
              "       [5.4, 3.4, 1.7, 0.2],\n",
              "       [5.1, 3.7, 1.5, 0.4],\n",
              "       [4.6, 3.6, 1.0, 0.2],\n",
              "       [5.1, 3.3, 1.7, 0.5],\n",
              "       [4.8, 3.4, 1.9, 0.2],\n",
              "       [5.0, 3.0, 1.6, 0.2],\n",
              "       [5.0, 3.4, 1.6, 0.4],\n",
              "       [5.2, 3.5, 1.5, 0.2],\n",
              "       [5.2, 3.4, 1.4, 0.2],\n",
              "       [4.7, 3.2, 1.6, 0.2],\n",
              "       [4.8, 3.1, 1.6, 0.2],\n",
              "       [5.4, 3.4, 1.5, 0.4],\n",
              "       [5.2, 4.1, 1.5, 0.1],\n",
              "       [5.5, 4.2, 1.4, 0.2],\n",
              "       [4.9, 3.1, 1.5, 0.1],\n",
              "       [5.0, 3.2, 1.2, 0.2],\n",
              "       [5.5, 3.5, 1.3, 0.2],\n",
              "       [4.9, 3.1, 1.5, 0.1],\n",
              "       [4.4, 3.0, 1.3, 0.2],\n",
              "       [5.1, 3.4, 1.5, 0.2],\n",
              "       [5.0, 3.5, 1.3, 0.3],\n",
              "       [4.5, 2.3, 1.3, 0.3],\n",
              "       [4.4, 3.2, 1.3, 0.2],\n",
              "       [5.0, 3.5, 1.6, 0.6],\n",
              "       [5.1, 3.8, 1.9, 0.4],\n",
              "       [4.8, 3.0, 1.4, 0.3],\n",
              "       [5.1, 3.8, 1.6, 0.2],\n",
              "       [4.6, 3.2, 1.4, 0.2],\n",
              "       [5.3, 3.7, 1.5, 0.2],\n",
              "       [5.0, 3.3, 1.4, 0.2],\n",
              "       [7.0, 3.2, 4.7, 1.4],\n",
              "       [6.4, 3.2, 4.5, 1.5],\n",
              "       [6.9, 3.1, 4.9, 1.5],\n",
              "       [5.5, 2.3, 4.0, 1.3],\n",
              "       [6.5, 2.8, 4.6, 1.5],\n",
              "       [5.7, 2.8, 4.5, 1.3],\n",
              "       [6.3, 3.3, 4.7, 1.6],\n",
              "       [4.9, 2.4, 3.3, 1.0],\n",
              "       [6.6, 2.9, 4.6, 1.3],\n",
              "       [5.2, 2.7, 3.9, 1.4],\n",
              "       [5.0, 2.0, 3.5, 1.0],\n",
              "       [5.9, 3.0, 4.2, 1.5],\n",
              "       [6.0, 2.2, 4.0, 1.0],\n",
              "       [6.1, 2.9, 4.7, 1.4],\n",
              "       [5.6, 2.9, 3.6, 1.3],\n",
              "       [6.7, 3.1, 4.4, 1.4],\n",
              "       [5.6, 3.0, 4.5, 1.5],\n",
              "       [5.8, 2.7, 4.1, 1.0],\n",
              "       [6.2, 2.2, 4.5, 1.5],\n",
              "       [5.6, 2.5, 3.9, 1.1],\n",
              "       [5.9, 3.2, 4.8, 1.8],\n",
              "       [6.1, 2.8, 4.0, 1.3],\n",
              "       [6.3, 2.5, 4.9, 1.5],\n",
              "       [6.1, 2.8, 4.7, 1.2],\n",
              "       [6.4, 2.9, 4.3, 1.3],\n",
              "       [6.6, 3.0, 4.4, 1.4],\n",
              "       [6.8, 2.8, 4.8, 1.4],\n",
              "       [6.7, 3.0, 5.0, 1.7],\n",
              "       [6.0, 2.9, 4.5, 1.5],\n",
              "       [5.7, 2.6, 3.5, 1.0],\n",
              "       [5.5, 2.4, 3.8, 1.1],\n",
              "       [5.5, 2.4, 3.7, 1.0],\n",
              "       [5.8, 2.7, 3.9, 1.2],\n",
              "       [6.0, 2.7, 5.1, 1.6],\n",
              "       [5.4, 3.0, 4.5, 1.5],\n",
              "       [6.0, 3.4, 4.5, 1.6],\n",
              "       [6.7, 3.1, 4.7, 1.5],\n",
              "       [6.3, 2.3, 4.4, 1.3],\n",
              "       [5.6, 3.0, 4.1, 1.3],\n",
              "       [5.5, 2.5, 4.0, 1.3],\n",
              "       [5.5, 2.6, 4.4, 1.2],\n",
              "       [6.1, 3.0, 4.6, 1.4],\n",
              "       [5.8, 2.6, 4.0, 1.2],\n",
              "       [5.0, 2.3, 3.3, 1.0],\n",
              "       [5.6, 2.7, 4.2, 1.3],\n",
              "       [5.7, 3.0, 4.2, 1.2],\n",
              "       [5.7, 2.9, 4.2, 1.3],\n",
              "       [6.2, 2.9, 4.3, 1.3],\n",
              "       [5.1, 2.5, 3.0, 1.1],\n",
              "       [5.7, 2.8, 4.1, 1.3],\n",
              "       [6.3, 3.3, 6.0, 2.5],\n",
              "       [5.8, 2.7, 5.1, 1.9],\n",
              "       [7.1, 3.0, 5.9, 2.1],\n",
              "       [6.3, 2.9, 5.6, 1.8],\n",
              "       [6.5, 3.0, 5.8, 2.2],\n",
              "       [7.6, 3.0, 6.6, 2.1],\n",
              "       [4.9, 2.5, 4.5, 1.7],\n",
              "       [7.3, 2.9, 6.3, 1.8],\n",
              "       [6.7, 2.5, 5.8, 1.8],\n",
              "       [7.2, 3.6, 6.1, 2.5],\n",
              "       [6.5, 3.2, 5.1, 2.0],\n",
              "       [6.4, 2.7, 5.3, 1.9],\n",
              "       [6.8, 3.0, 5.5, 2.1],\n",
              "       [5.7, 2.5, 5.0, 2.0],\n",
              "       [5.8, 2.8, 5.1, 2.4],\n",
              "       [6.4, 3.2, 5.3, 2.3],\n",
              "       [6.5, 3.0, 5.5, 1.8],\n",
              "       [7.7, 3.8, 6.7, 2.2],\n",
              "       [7.7, 2.6, 6.9, 2.3],\n",
              "       [6.0, 2.2, 5.0, 1.5],\n",
              "       [6.9, 3.2, 5.7, 2.3],\n",
              "       [5.6, 2.8, 4.9, 2.0],\n",
              "       [7.7, 2.8, 6.7, 2.0],\n",
              "       [6.3, 2.7, 4.9, 1.8],\n",
              "       [6.7, 3.3, 5.7, 2.1],\n",
              "       [7.2, 3.2, 6.0, 1.8],\n",
              "       [6.2, 2.8, 4.8, 1.8],\n",
              "       [6.1, 3.0, 4.9, 1.8],\n",
              "       [6.4, 2.8, 5.6, 2.1],\n",
              "       [7.2, 3.0, 5.8, 1.6],\n",
              "       [7.4, 2.8, 6.1, 1.9],\n",
              "       [7.9, 3.8, 6.4, 2.0],\n",
              "       [6.4, 2.8, 5.6, 2.2],\n",
              "       [6.3, 2.8, 5.1, 1.5],\n",
              "       [6.1, 2.6, 5.6, 1.4],\n",
              "       [7.7, 3.0, 6.1, 2.3],\n",
              "       [6.3, 3.4, 5.6, 2.4],\n",
              "       [6.4, 3.1, 5.5, 1.8],\n",
              "       [6.0, 3.0, 4.8, 1.8],\n",
              "       [6.9, 3.1, 5.4, 2.1],\n",
              "       [6.7, 3.1, 5.6, 2.4],\n",
              "       [6.9, 3.1, 5.1, 2.3],\n",
              "       [5.8, 2.7, 5.1, 1.9],\n",
              "       [6.8, 3.2, 5.9, 2.3],\n",
              "       [6.7, 3.3, 5.7, 2.5],\n",
              "       [6.7, 3.0, 5.2, 2.3],\n",
              "       [6.3, 2.5, 5.0, 1.9],\n",
              "       [6.5, 3.0, 5.2, 2.0],\n",
              "       [6.2, 3.4, 5.4, 2.3],\n",
              "       [5.9, 3.0, 5.1, 1.8]], dtype=object)"
            ]
          },
          "metadata": {
            "tags": []
          },
          "execution_count": 7
        }
      ]
    },
    {
      "cell_type": "code",
      "metadata": {
        "colab": {
          "base_uri": "https://localhost:8080/"
        },
        "id": "U8nFnWRtN-c_",
        "outputId": "ec2b7982-7875-42bb-f70d-188f4d3f41dc"
      },
      "source": [
        "training.shape"
      ],
      "execution_count": 8,
      "outputs": [
        {
          "output_type": "execute_result",
          "data": {
            "text/plain": [
              "(150, 4)"
            ]
          },
          "metadata": {
            "tags": []
          },
          "execution_count": 8
        }
      ]
    },
    {
      "cell_type": "code",
      "metadata": {
        "colab": {
          "base_uri": "https://localhost:8080/"
        },
        "id": "gstrAImfN-YP",
        "outputId": "9186f69f-ea57-4fdb-e687-1a80ba6b559c"
      },
      "source": [
        "trainingClass=dataset.values[:,-1]\n",
        "trainingClass"
      ],
      "execution_count": 9,
      "outputs": [
        {
          "output_type": "execute_result",
          "data": {
            "text/plain": [
              "array(['Iris-setosa', 'Iris-setosa', 'Iris-setosa', 'Iris-setosa',\n",
              "       'Iris-setosa', 'Iris-setosa', 'Iris-setosa', 'Iris-setosa',\n",
              "       'Iris-setosa', 'Iris-setosa', 'Iris-setosa', 'Iris-setosa',\n",
              "       'Iris-setosa', 'Iris-setosa', 'Iris-setosa', 'Iris-setosa',\n",
              "       'Iris-setosa', 'Iris-setosa', 'Iris-setosa', 'Iris-setosa',\n",
              "       'Iris-setosa', 'Iris-setosa', 'Iris-setosa', 'Iris-setosa',\n",
              "       'Iris-setosa', 'Iris-setosa', 'Iris-setosa', 'Iris-setosa',\n",
              "       'Iris-setosa', 'Iris-setosa', 'Iris-setosa', 'Iris-setosa',\n",
              "       'Iris-setosa', 'Iris-setosa', 'Iris-setosa', 'Iris-setosa',\n",
              "       'Iris-setosa', 'Iris-setosa', 'Iris-setosa', 'Iris-setosa',\n",
              "       'Iris-setosa', 'Iris-setosa', 'Iris-setosa', 'Iris-setosa',\n",
              "       'Iris-setosa', 'Iris-setosa', 'Iris-setosa', 'Iris-setosa',\n",
              "       'Iris-setosa', 'Iris-setosa', 'Iris-versicolor', 'Iris-versicolor',\n",
              "       'Iris-versicolor', 'Iris-versicolor', 'Iris-versicolor',\n",
              "       'Iris-versicolor', 'Iris-versicolor', 'Iris-versicolor',\n",
              "       'Iris-versicolor', 'Iris-versicolor', 'Iris-versicolor',\n",
              "       'Iris-versicolor', 'Iris-versicolor', 'Iris-versicolor',\n",
              "       'Iris-versicolor', 'Iris-versicolor', 'Iris-versicolor',\n",
              "       'Iris-versicolor', 'Iris-versicolor', 'Iris-versicolor',\n",
              "       'Iris-versicolor', 'Iris-versicolor', 'Iris-versicolor',\n",
              "       'Iris-versicolor', 'Iris-versicolor', 'Iris-versicolor',\n",
              "       'Iris-versicolor', 'Iris-versicolor', 'Iris-versicolor',\n",
              "       'Iris-versicolor', 'Iris-versicolor', 'Iris-versicolor',\n",
              "       'Iris-versicolor', 'Iris-versicolor', 'Iris-versicolor',\n",
              "       'Iris-versicolor', 'Iris-versicolor', 'Iris-versicolor',\n",
              "       'Iris-versicolor', 'Iris-versicolor', 'Iris-versicolor',\n",
              "       'Iris-versicolor', 'Iris-versicolor', 'Iris-versicolor',\n",
              "       'Iris-versicolor', 'Iris-versicolor', 'Iris-versicolor',\n",
              "       'Iris-versicolor', 'Iris-versicolor', 'Iris-versicolor',\n",
              "       'Iris-virginica', 'Iris-virginica', 'Iris-virginica',\n",
              "       'Iris-virginica', 'Iris-virginica', 'Iris-virginica',\n",
              "       'Iris-virginica', 'Iris-virginica', 'Iris-virginica',\n",
              "       'Iris-virginica', 'Iris-virginica', 'Iris-virginica',\n",
              "       'Iris-virginica', 'Iris-virginica', 'Iris-virginica',\n",
              "       'Iris-virginica', 'Iris-virginica', 'Iris-virginica',\n",
              "       'Iris-virginica', 'Iris-virginica', 'Iris-virginica',\n",
              "       'Iris-virginica', 'Iris-virginica', 'Iris-virginica',\n",
              "       'Iris-virginica', 'Iris-virginica', 'Iris-virginica',\n",
              "       'Iris-virginica', 'Iris-virginica', 'Iris-virginica',\n",
              "       'Iris-virginica', 'Iris-virginica', 'Iris-virginica',\n",
              "       'Iris-virginica', 'Iris-virginica', 'Iris-virginica',\n",
              "       'Iris-virginica', 'Iris-virginica', 'Iris-virginica',\n",
              "       'Iris-virginica', 'Iris-virginica', 'Iris-virginica',\n",
              "       'Iris-virginica', 'Iris-virginica', 'Iris-virginica',\n",
              "       'Iris-virginica', 'Iris-virginica', 'Iris-virginica',\n",
              "       'Iris-virginica', 'Iris-virginica'], dtype=object)"
            ]
          },
          "metadata": {
            "tags": []
          },
          "execution_count": 9
        }
      ]
    },
    {
      "cell_type": "code",
      "metadata": {
        "id": "n6c0kxThN-Xi"
      },
      "source": [
        "def euclidean_distance(row1,row2):\n",
        "  distance=0.0\n",
        "  for i in  range(len(row1)):\n",
        "    distance+=(row1[i]-row2[i])**2\n",
        "  return math.sqrt(distance)"
      ],
      "execution_count": 10,
      "outputs": []
    },
    {
      "cell_type": "code",
      "metadata": {
        "colab": {
          "base_uri": "https://localhost:8080/"
        },
        "id": "UDufqjs9N-TG",
        "outputId": "ce23d7d9-66eb-425e-a141-16a0dec439b8"
      },
      "source": [
        "#to convert categorical values to numeriacal values\n",
        "\n",
        "unique_list=[]\n",
        "for x in trainingClass:\n",
        "  if x not in unique_list:\n",
        "    unique_list.append(x)\n",
        "print(unique_list)\n",
        "\n",
        "for i in range(len(trainingClass)):\n",
        "  for k in range(len(unique_list)):\n",
        "    if(trainingClass[i]==unique_list[k]):\n",
        "      trainingClass[i]=k\n",
        "print(trainingClass)"
      ],
      "execution_count": 11,
      "outputs": [
        {
          "output_type": "stream",
          "text": [
            "['Iris-setosa', 'Iris-versicolor', 'Iris-virginica']\n",
            "[0 0 0 0 0 0 0 0 0 0 0 0 0 0 0 0 0 0 0 0 0 0 0 0 0 0 0 0 0 0 0 0 0 0 0 0 0\n",
            " 0 0 0 0 0 0 0 0 0 0 0 0 0 1 1 1 1 1 1 1 1 1 1 1 1 1 1 1 1 1 1 1 1 1 1 1 1\n",
            " 1 1 1 1 1 1 1 1 1 1 1 1 1 1 1 1 1 1 1 1 1 1 1 1 1 1 2 2 2 2 2 2 2 2 2 2 2\n",
            " 2 2 2 2 2 2 2 2 2 2 2 2 2 2 2 2 2 2 2 2 2 2 2 2 2 2 2 2 2 2 2 2 2 2 2 2 2\n",
            " 2 2]\n"
          ],
          "name": "stdout"
        }
      ]
    },
    {
      "cell_type": "code",
      "metadata": {
        "colab": {
          "base_uri": "https://localhost:8080/"
        },
        "id": "H7wcS5ghN-SX",
        "outputId": "7fe75d0c-2f6a-4a67-f4cd-86100ce90e9c"
      },
      "source": [
        "distance=[]\n",
        "for i in range(len(training)):\n",
        "  distance.append([euclidean_distance((training[i]),(training[0])),trainingClass[i]])\n",
        "print(distance)"
      ],
      "execution_count": 12,
      "outputs": [
        {
          "output_type": "stream",
          "text": [
            "[[0.0, 0], [0.5385164807134502, 0], [0.509901951359278, 0], [0.648074069840786, 0], [0.1414213562373093, 0], [0.6164414002968979, 0], [0.5196152422706632, 0], [0.17320508075688762, 0], [0.9219544457292882, 0], [0.4690415759823426, 0], [0.37416573867739483, 0], [0.3741657386773941, 0], [0.5916079783099616, 0], [0.9949874371066197, 0], [0.8831760866327848, 0], [1.1045361017187267, 0], [0.5477225575051664, 0], [0.09999999999999998, 0], [0.7416198487095667, 0], [0.33166247903553986, 0], [0.4358898943540679, 0], [0.30000000000000016, 0], [0.648074069840786, 0], [0.46904157598234303, 0], [0.5916079783099616, 0], [0.5477225575051662, 0], [0.316227766016838, 0], [0.14142135623730995, 0], [0.14142135623730995, 0], [0.53851648071345, 0], [0.5385164807134504, 0], [0.3872983346207423, 0], [0.6244997998398396, 0], [0.8062257748298554, 0], [0.4690415759823426, 0], [0.37416573867739383, 0], [0.41231056256176635, 0], [0.4690415759823426, 0], [0.866025403784438, 0], [0.14142135623730964, 0], [0.17320508075688743, 0], [1.3490737563232043, 0], [0.7681145747868601, 0], [0.45825756949558394, 0], [0.6164414002968975, 0], [0.5916079783099616, 0], [0.3605551275463989, 0], [0.58309518948453, 0], [0.30000000000000027, 0], [0.22360679774997896, 0], [4.003748243833521, 1], [3.6166282640050254, 1], [4.164132562731403, 1], [3.093541659651604, 1], [3.792097045171708, 1], [3.416138170507745, 1], [3.7854986461495406, 1], [2.345207879911715, 1], [3.749666651850535, 1], [2.8879058156387303, 1], [2.703701166919155, 1], [3.228002478313795, 1], [3.146426544510455, 1], [3.7, 1], [2.5806975801127883, 1], [3.627671429443412, 1], [3.4351128074635335, 1], [3.009983388658482, 1], [3.7682887362833544, 1], [2.882707061079915, 1], [3.8535697735995385, 1], [3.0757112998459397, 1], [4.047221268969613, 1], [3.6578682316343767, 1], [3.416138170507745, 1], [3.59722114972099, 1], [4.047221268969612, 1], [4.244997055358225, 1], [3.531288716601915, 1], [2.4939927826679855, 1], [2.8178005607210745, 1], [2.7018512172212596, 1], [2.8948229652260253, 1], [4.135214625627066, 1], [3.411744421846396, 1], [3.5199431813596087, 1], [3.9115214431215897, 1], [3.6180105030251095, 1], [2.9999999999999996, 1], [3.0215889859476257, 1], [3.3120990323358397, 1], [3.59583091927304, 1], [3.0099833886584824, 1], [2.387467277262665, 1], [3.1527765540868895, 1], [3.07408522978788, 1], [3.1256999216175574, 1], [3.3451457367355464, 1], [2.0904544960366875, 1], [3.057776970284131, 1], [5.2848841046895245, 2], [4.208325082500163, 2], [5.301886456724625, 2], [4.690415759823429, 2], [5.056678751908213, 2], [6.0950799830683104, 2], [3.591656999213594, 2], [5.636488268416782, 2], [5.047771785649585, 2], [5.639148871948673, 2], [4.356604182158392, 2], [4.519955751995809, 2], [4.853864439804639, 2], [4.190465367951393, 2], [4.417012565071555, 2], [4.626013402488151, 2], [4.645427859734774, 2], [6.240192304729079, 2], [6.498461356351979, 2], [4.141255848169732, 2], [5.121523210920752, 2], [4.028647415696738, 2], [6.211280061307815, 2], [4.109744517606904, 2], [4.969909455915672, 2], [5.31224999411737, 2], [3.9774363602702683, 2], [4.007492981902776, 2], [4.840454524112379, 2], [5.0970579749498635, 2], [5.546169849544818, 2], [6.014149981501959, 2], [4.880573736764972, 2], [4.160528812542944, 2], [4.570557952810575, 2], [5.788782255362521, 2], [4.891829923454003, 2], [4.606517122512408, 2], [3.8961519477556315, 2], [4.796873982084583, 2], [5.0199601592044525, 2], [4.636809247747852, 2], [4.208325082500163, 2], [5.2573757712379665, 2], [5.136146415358503, 2], [4.654030511288039, 2], [4.27668095606862, 2], [4.459820624195552, 2], [4.650806381693394, 2], [4.1400483088968905, 2]]\n"
          ],
          "name": "stdout"
        }
      ]
    },
    {
      "cell_type": "code",
      "metadata": {
        "colab": {
          "base_uri": "https://localhost:8080/"
        },
        "id": "MsGNt0NVN-Nu",
        "outputId": "a5f0b3dd-7078-4880-b1eb-09c068c6d7e7"
      },
      "source": [
        "len(distance)"
      ],
      "execution_count": 13,
      "outputs": [
        {
          "output_type": "execute_result",
          "data": {
            "text/plain": [
              "150"
            ]
          },
          "metadata": {
            "tags": []
          },
          "execution_count": 13
        }
      ]
    },
    {
      "cell_type": "code",
      "metadata": {
        "colab": {
          "base_uri": "https://localhost:8080/"
        },
        "id": "RWMWOcqxN-NF",
        "outputId": "38b05e1f-32c2-46b3-f7c7-3461d8fe699e"
      },
      "source": [
        "distance.sort()\n",
        "distance"
      ],
      "execution_count": 14,
      "outputs": [
        {
          "output_type": "execute_result",
          "data": {
            "text/plain": [
              "[[0.0, 0],\n",
              " [0.09999999999999998, 0],\n",
              " [0.1414213562373093, 0],\n",
              " [0.14142135623730964, 0],\n",
              " [0.14142135623730995, 0],\n",
              " [0.14142135623730995, 0],\n",
              " [0.17320508075688743, 0],\n",
              " [0.17320508075688762, 0],\n",
              " [0.22360679774997896, 0],\n",
              " [0.30000000000000016, 0],\n",
              " [0.30000000000000027, 0],\n",
              " [0.316227766016838, 0],\n",
              " [0.33166247903553986, 0],\n",
              " [0.3605551275463989, 0],\n",
              " [0.37416573867739383, 0],\n",
              " [0.3741657386773941, 0],\n",
              " [0.37416573867739483, 0],\n",
              " [0.3872983346207423, 0],\n",
              " [0.41231056256176635, 0],\n",
              " [0.4358898943540679, 0],\n",
              " [0.45825756949558394, 0],\n",
              " [0.4690415759823426, 0],\n",
              " [0.4690415759823426, 0],\n",
              " [0.4690415759823426, 0],\n",
              " [0.46904157598234303, 0],\n",
              " [0.509901951359278, 0],\n",
              " [0.5196152422706632, 0],\n",
              " [0.53851648071345, 0],\n",
              " [0.5385164807134502, 0],\n",
              " [0.5385164807134504, 0],\n",
              " [0.5477225575051662, 0],\n",
              " [0.5477225575051664, 0],\n",
              " [0.58309518948453, 0],\n",
              " [0.5916079783099616, 0],\n",
              " [0.5916079783099616, 0],\n",
              " [0.5916079783099616, 0],\n",
              " [0.6164414002968975, 0],\n",
              " [0.6164414002968979, 0],\n",
              " [0.6244997998398396, 0],\n",
              " [0.648074069840786, 0],\n",
              " [0.648074069840786, 0],\n",
              " [0.7416198487095667, 0],\n",
              " [0.7681145747868601, 0],\n",
              " [0.8062257748298554, 0],\n",
              " [0.866025403784438, 0],\n",
              " [0.8831760866327848, 0],\n",
              " [0.9219544457292882, 0],\n",
              " [0.9949874371066197, 0],\n",
              " [1.1045361017187267, 0],\n",
              " [1.3490737563232043, 0],\n",
              " [2.0904544960366875, 1],\n",
              " [2.345207879911715, 1],\n",
              " [2.387467277262665, 1],\n",
              " [2.4939927826679855, 1],\n",
              " [2.5806975801127883, 1],\n",
              " [2.7018512172212596, 1],\n",
              " [2.703701166919155, 1],\n",
              " [2.8178005607210745, 1],\n",
              " [2.882707061079915, 1],\n",
              " [2.8879058156387303, 1],\n",
              " [2.8948229652260253, 1],\n",
              " [2.9999999999999996, 1],\n",
              " [3.009983388658482, 1],\n",
              " [3.0099833886584824, 1],\n",
              " [3.0215889859476257, 1],\n",
              " [3.057776970284131, 1],\n",
              " [3.07408522978788, 1],\n",
              " [3.0757112998459397, 1],\n",
              " [3.093541659651604, 1],\n",
              " [3.1256999216175574, 1],\n",
              " [3.146426544510455, 1],\n",
              " [3.1527765540868895, 1],\n",
              " [3.228002478313795, 1],\n",
              " [3.3120990323358397, 1],\n",
              " [3.3451457367355464, 1],\n",
              " [3.411744421846396, 1],\n",
              " [3.416138170507745, 1],\n",
              " [3.416138170507745, 1],\n",
              " [3.4351128074635335, 1],\n",
              " [3.5199431813596087, 1],\n",
              " [3.531288716601915, 1],\n",
              " [3.591656999213594, 2],\n",
              " [3.59583091927304, 1],\n",
              " [3.59722114972099, 1],\n",
              " [3.6166282640050254, 1],\n",
              " [3.6180105030251095, 1],\n",
              " [3.627671429443412, 1],\n",
              " [3.6578682316343767, 1],\n",
              " [3.7, 1],\n",
              " [3.749666651850535, 1],\n",
              " [3.7682887362833544, 1],\n",
              " [3.7854986461495406, 1],\n",
              " [3.792097045171708, 1],\n",
              " [3.8535697735995385, 1],\n",
              " [3.8961519477556315, 2],\n",
              " [3.9115214431215897, 1],\n",
              " [3.9774363602702683, 2],\n",
              " [4.003748243833521, 1],\n",
              " [4.007492981902776, 2],\n",
              " [4.028647415696738, 2],\n",
              " [4.047221268969612, 1],\n",
              " [4.047221268969613, 1],\n",
              " [4.109744517606904, 2],\n",
              " [4.135214625627066, 1],\n",
              " [4.1400483088968905, 2],\n",
              " [4.141255848169732, 2],\n",
              " [4.160528812542944, 2],\n",
              " [4.164132562731403, 1],\n",
              " [4.190465367951393, 2],\n",
              " [4.208325082500163, 2],\n",
              " [4.208325082500163, 2],\n",
              " [4.244997055358225, 1],\n",
              " [4.27668095606862, 2],\n",
              " [4.356604182158392, 2],\n",
              " [4.417012565071555, 2],\n",
              " [4.459820624195552, 2],\n",
              " [4.519955751995809, 2],\n",
              " [4.570557952810575, 2],\n",
              " [4.606517122512408, 2],\n",
              " [4.626013402488151, 2],\n",
              " [4.636809247747852, 2],\n",
              " [4.645427859734774, 2],\n",
              " [4.650806381693394, 2],\n",
              " [4.654030511288039, 2],\n",
              " [4.690415759823429, 2],\n",
              " [4.796873982084583, 2],\n",
              " [4.840454524112379, 2],\n",
              " [4.853864439804639, 2],\n",
              " [4.880573736764972, 2],\n",
              " [4.891829923454003, 2],\n",
              " [4.969909455915672, 2],\n",
              " [5.0199601592044525, 2],\n",
              " [5.047771785649585, 2],\n",
              " [5.056678751908213, 2],\n",
              " [5.0970579749498635, 2],\n",
              " [5.121523210920752, 2],\n",
              " [5.136146415358503, 2],\n",
              " [5.2573757712379665, 2],\n",
              " [5.2848841046895245, 2],\n",
              " [5.301886456724625, 2],\n",
              " [5.31224999411737, 2],\n",
              " [5.546169849544818, 2],\n",
              " [5.636488268416782, 2],\n",
              " [5.639148871948673, 2],\n",
              " [5.788782255362521, 2],\n",
              " [6.014149981501959, 2],\n",
              " [6.0950799830683104, 2],\n",
              " [6.211280061307815, 2],\n",
              " [6.240192304729079, 2],\n",
              " [6.498461356351979, 2]]"
            ]
          },
          "metadata": {
            "tags": []
          },
          "execution_count": 14
        }
      ]
    },
    {
      "cell_type": "code",
      "metadata": {
        "id": "wrwYOu2hN-Hr"
      },
      "source": [
        "nearest_neighbour=7"
      ],
      "execution_count": 15,
      "outputs": []
    },
    {
      "cell_type": "code",
      "metadata": {
        "colab": {
          "base_uri": "https://localhost:8080/"
        },
        "id": "7mIKisFbN-HA",
        "outputId": "49f56517-7423-43ae-fb5a-0f41e146b409"
      },
      "source": [
        "identify=[0 for i in range(len(unique_list))]\n",
        "for i in range(nearest_neighbour):\n",
        "  identify[distance[i][1]]=identify[distance[i][1]]+1\n",
        "print(identify)"
      ],
      "execution_count": 16,
      "outputs": [
        {
          "output_type": "stream",
          "text": [
            "[7, 0, 0]\n"
          ],
          "name": "stdout"
        }
      ]
    },
    {
      "cell_type": "code",
      "metadata": {
        "colab": {
          "base_uri": "https://localhost:8080/"
        },
        "id": "DpRL4dx0N-BR",
        "outputId": "3e0aa060-2e66-44eb-d117-a6aec627ac54"
      },
      "source": [
        "unique_list"
      ],
      "execution_count": 17,
      "outputs": [
        {
          "output_type": "execute_result",
          "data": {
            "text/plain": [
              "['Iris-setosa', 'Iris-versicolor', 'Iris-virginica']"
            ]
          },
          "metadata": {
            "tags": []
          },
          "execution_count": 17
        }
      ]
    },
    {
      "cell_type": "code",
      "metadata": {
        "colab": {
          "base_uri": "https://localhost:8080/"
        },
        "id": "wQKKoWp7N96o",
        "outputId": "43d589b8-a1dd-463d-cea3-28d50b81b40f"
      },
      "source": [
        "print(\"The predicted class is: \",unique_list[identify.index(max(identify))])"
      ],
      "execution_count": 18,
      "outputs": [
        {
          "output_type": "stream",
          "text": [
            "The predicted class is:  Iris-setosa\n"
          ],
          "name": "stdout"
        }
      ]
    },
    {
      "cell_type": "code",
      "metadata": {
        "id": "ul0maMPsN957"
      },
      "source": [
        "#to find confusion matrix"
      ],
      "execution_count": 19,
      "outputs": []
    },
    {
      "cell_type": "code",
      "metadata": {
        "id": "iIibDJAZN906"
      },
      "source": [
        ""
      ],
      "execution_count": 19,
      "outputs": []
    },
    {
      "cell_type": "code",
      "metadata": {
        "id": "r8guATxFN90N"
      },
      "source": [
        ""
      ],
      "execution_count": 19,
      "outputs": []
    },
    {
      "cell_type": "code",
      "metadata": {
        "id": "UjjlTZboN9pa"
      },
      "source": [
        ""
      ],
      "execution_count": 19,
      "outputs": []
    },
    {
      "cell_type": "code",
      "metadata": {
        "id": "Npq2X7QTN9on"
      },
      "source": [
        ""
      ],
      "execution_count": 19,
      "outputs": []
    },
    {
      "cell_type": "code",
      "metadata": {
        "id": "B4OSFOu2N8F5"
      },
      "source": [
        ""
      ],
      "execution_count": 19,
      "outputs": []
    }
  ]
}