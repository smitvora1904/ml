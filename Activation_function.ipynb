{
  "nbformat": 4,
  "nbformat_minor": 0,
  "metadata": {
    "colab": {
      "name": "Activation function.ipynb",
      "provenance": []
    },
    "kernelspec": {
      "name": "python3",
      "display_name": "Python 3"
    },
    "language_info": {
      "name": "python"
    }
  },
  "cells": [
    {
      "cell_type": "code",
      "metadata": {
        "id": "wbLSR9yataHV"
      },
      "source": [
        "%matplotlib inline\n",
        "import matplotlib.pyplot as plt\n",
        "import seaborn as sns"
      ],
      "execution_count": 1,
      "outputs": []
    },
    {
      "cell_type": "code",
      "metadata": {
        "id": "oc8gQi9VtonH"
      },
      "source": [
        "def plot_fun(x,y,title):\n",
        "  plt.figure(figsize=(5,3)).gca()\n",
        "  plt.plot(x,y)\n",
        "  plt.xlabel('x')\n",
        "  plt.ylabel('y')\n",
        "  plt.title(title)"
      ],
      "execution_count": 2,
      "outputs": []
    },
    {
      "cell_type": "markdown",
      "metadata": {
        "id": "Z8b_d2LM_hZN"
      },
      "source": [
        "### **ReLU**"
      ]
    },
    {
      "cell_type": "code",
      "metadata": {
        "id": "ct0Rgn9J_eWX"
      },
      "source": [
        "def relu(x):\n",
        "  return (max(0,x))"
      ],
      "execution_count": 3,
      "outputs": []
    },
    {
      "cell_type": "code",
      "metadata": {
        "id": "mz2oNRPf_aTN"
      },
      "source": [
        "x=[float(x)/100 for x in range(-100,100)] #input\n",
        "y=[relu(x1) for x1 in x] #output of relu"
      ],
      "execution_count": 4,
      "outputs": []
    },
    {
      "cell_type": "code",
      "metadata": {
        "colab": {
          "base_uri": "https://localhost:8080/",
          "height": 241
        },
        "id": "oD0QyHnttojE",
        "outputId": "1a77e985-6d70-4cff-8329-ff2f7af9fb35"
      },
      "source": [
        "#plotting ReLU function\n",
        "plot_fun(x,y,'Rectified Linear Unit')"
      ],
      "execution_count": 5,
      "outputs": [
        {
          "output_type": "display_data",
          "data": {
            "image/png": "[encoded data removed]",
            "text/plain": [
              "<Figure size 360x216 with 1 Axes>"
            ]
          },
          "metadata": {
            "tags": [],
            "needs_background": "light"
          }
        }
      ]
    },
    {
      "cell_type": "markdown",
      "metadata": {
        "id": "QrpoM8C6_mux"
      },
      "source": [
        "### **Sigmoid**"
      ]
    },
    {
      "cell_type": "code",
      "metadata": {
        "id": "yzvT34BAuyqH"
      },
      "source": [
        "from math import exp\n",
        "def sigmoid(x):\n",
        "  return(exp(x)/(1+exp(x)))"
      ],
      "execution_count": 6,
      "outputs": []
    },
    {
      "cell_type": "code",
      "metadata": {
        "id": "_EnLsc2MuyoR"
      },
      "source": [
        "x=[float(x)/100 for x in range(-500,500)] #input\n",
        "y=[sigmoid(x1) for x1 in x] #output of sigmoid"
      ],
      "execution_count": 7,
      "outputs": []
    },
    {
      "cell_type": "code",
      "metadata": {
        "colab": {
          "base_uri": "https://localhost:8080/",
          "height": 241
        },
        "id": "PiZ-kff8uykW",
        "outputId": "2012be2b-cbdf-45f4-ec66-d252585a3573"
      },
      "source": [
        "plot_fun(x,y,'Sigmoid Function')"
      ],
      "execution_count": 8,
      "outputs": [
        {
          "output_type": "display_data",
          "data": {
            "image/png": "[encoded data removed]",
            "text/plain": [
              "<Figure size 360x216 with 1 Axes>"
            ]
          },
          "metadata": {
            "tags": [],
            "needs_background": "light"
          }
        }
      ]
    },
    {
      "cell_type": "markdown",
      "metadata": {
        "id": "xUGXFxpi_422"
      },
      "source": [
        "### **Binary Function**"
      ]
    },
    {
      "cell_type": "code",
      "metadata": {
        "id": "eBAfxjiI_vkX"
      },
      "source": [
        "def binary(x):\n",
        "    if(x<0):\n",
        "        return 0\n",
        "    else :\n",
        "        return 1"
      ],
      "execution_count": 9,
      "outputs": []
    },
    {
      "cell_type": "code",
      "metadata": {
        "id": "sYqu7UG8AFee"
      },
      "source": [
        "x = [float(x)/100 for x in range(-500,500)] #input\n",
        "y = [binary(x1) for x1 in x]  #output"
      ],
      "execution_count": 10,
      "outputs": []
    },
    {
      "cell_type": "code",
      "metadata": {
        "colab": {
          "base_uri": "https://localhost:8080/",
          "height": 241
        },
        "id": "miaCuEIIAHqm",
        "outputId": "4a1b0474-47ff-4d29-e9e6-87a81a572f66"
      },
      "source": [
        "plot_fun(x,y,'Binary function')"
      ],
      "execution_count": 11,
      "outputs": [
        {
          "output_type": "display_data",
          "data": {
            "image/png": "[encoded data removed]",
            "text/plain": [
              "<Figure size 360x216 with 1 Axes>"
            ]
          },
          "metadata": {
            "tags": [],
            "needs_background": "light"
          }
        }
      ]
    },
    {
      "cell_type": "markdown",
      "metadata": {
        "id": "dUy1vHgbAOBm"
      },
      "source": [
        "### **Step Function**"
      ]
    },
    {
      "cell_type": "code",
      "metadata": {
        "id": "aPmHiN0NAWxm"
      },
      "source": [
        "alpha = 2;\n",
        "def step(x):\n",
        "    if(x<0):\n",
        "        return 0\n",
        "    else :\n",
        "        return alpha"
      ],
      "execution_count": 12,
      "outputs": []
    },
    {
      "cell_type": "code",
      "metadata": {
        "id": "5nF58L8kAWue"
      },
      "source": [
        "x = [float(x)/100 for x in range(-500,500)] #input\n",
        "y = [step(x1) for x1 in x]  #output"
      ],
      "execution_count": 13,
      "outputs": []
    },
    {
      "cell_type": "code",
      "metadata": {
        "colab": {
          "base_uri": "https://localhost:8080/",
          "height": 241
        },
        "id": "bRQ575XlAbur",
        "outputId": "1d457aaa-5953-429f-faac-f7df5d1abfe8"
      },
      "source": [
        "plot_fun(x,y,'Step-function')"
      ],
      "execution_count": 14,
      "outputs": [
        {
          "output_type": "display_data",
          "data": {
            "image/png": "[encoded data removed]",
            "text/plain": [
              "<Figure size 360x216 with 1 Axes>"
            ]
          },
          "metadata": {
            "tags": [],
            "needs_background": "light"
          }
        }
      ]
    },
    {
      "cell_type": "code",
      "metadata": {
        "id": "SXn2gGu0uyiX"
      },
      "source": [
        "x=[(2,1),(1,1),(1,2)]\n",
        "y=[1,0,-1]"
      ],
      "execution_count": 15,
      "outputs": []
    },
    {
      "cell_type": "markdown",
      "metadata": {
        "id": "QmDr8vAYAis2"
      },
      "source": [
        "### **Linear Function**"
      ]
    },
    {
      "cell_type": "code",
      "metadata": {
        "id": "J7oGrgBzAn-1"
      },
      "source": [
        "slop=1\n",
        "y_intercept=0\n",
        "def linear(x):\n",
        "    return slop*x+y_intercept"
      ],
      "execution_count": 16,
      "outputs": []
    },
    {
      "cell_type": "code",
      "metadata": {
        "id": "_X13aXRCAsYH"
      },
      "source": [
        "x = [float(x) for x in range(-10,10)] #input\n",
        "y = [linear(x1) for x1 in x]  #output"
      ],
      "execution_count": 17,
      "outputs": []
    },
    {
      "cell_type": "code",
      "metadata": {
        "colab": {
          "base_uri": "https://localhost:8080/",
          "height": 241
        },
        "id": "8fd15X5iAuEr",
        "outputId": "a1383f47-ec98-4a13-e742-42410c51755d"
      },
      "source": [
        "plot_fun(x,y,'Linear Function')"
      ],
      "execution_count": 18,
      "outputs": [
        {
          "output_type": "display_data",
          "data": {
            "image/png": "[encoded data removed]",
            "text/plain": [
              "<Figure size 360x216 with 1 Axes>"
            ]
          },
          "metadata": {
            "tags": [],
            "needs_background": "light"
          }
        }
      ]
    },
    {
      "cell_type": "markdown",
      "metadata": {
        "id": "aCAWrolRAyAg"
      },
      "source": [
        "### **Leaky ReLU**"
      ]
    },
    {
      "cell_type": "code",
      "metadata": {
        "id": "dxTqIMF2A3m3"
      },
      "source": [
        "alpha = 0.1\n",
        "def relu(x):\n",
        "    if(x<0):\n",
        "        return alpha * x\n",
        "    else:\n",
        "        return x"
      ],
      "execution_count": 19,
      "outputs": []
    },
    {
      "cell_type": "code",
      "metadata": {
        "id": "TRt-N-QhA-rQ"
      },
      "source": [
        "x = [float(x)/100 for x in range(-100,100)] #input\n",
        "y = [relu(x1) for x1 in x]  #output"
      ],
      "execution_count": 20,
      "outputs": []
    },
    {
      "cell_type": "code",
      "metadata": {
        "colab": {
          "base_uri": "https://localhost:8080/",
          "height": 241
        },
        "id": "Q5uKZZUZBApS",
        "outputId": "373eb1ac-0e26-486a-d30e-ccc7f22644c4"
      },
      "source": [
        "plot_fun(x,y,'Leaky RELU Function')"
      ],
      "execution_count": 21,
      "outputs": [
        {
          "output_type": "display_data",
          "data": {
            "image/png": "[encoded data removed]",
            "text/plain": [
              "<Figure size 360x216 with 1 Axes>"
            ]
          },
          "metadata": {
            "tags": [],
            "needs_background": "light"
          }
        }
      ]
    },
    {
      "cell_type": "markdown",
      "metadata": {
        "id": "a-ZsOg-5BEuQ"
      },
      "source": [
        "### **Tanh Function**"
      ]
    },
    {
      "cell_type": "code",
      "metadata": {
        "id": "WeHKJ0ZzBMC2"
      },
      "source": [
        "def tanh(x):\n",
        "    return 2 * sigmoid(2*x) -1"
      ],
      "execution_count": 22,
      "outputs": []
    },
    {
      "cell_type": "code",
      "metadata": {
        "id": "4iaprszqBXEV"
      },
      "source": [
        "x = [float(x1)/100 for x1 in range(-500,500)] #input\n",
        "y = [tanh(x2) for x2 in x]  #output"
      ],
      "execution_count": 23,
      "outputs": []
    },
    {
      "cell_type": "code",
      "metadata": {
        "colab": {
          "base_uri": "https://localhost:8080/",
          "height": 241
        },
        "id": "RPAR5DMVBXBa",
        "outputId": "61fcf40e-ccb8-4364-b1d3-2bd951e59a93"
      },
      "source": [
        "plot_fun(x,y,'Tanh-Function')"
      ],
      "execution_count": 24,
      "outputs": [
        {
          "output_type": "display_data",
          "data": {
            "image/png": "[encoded data removed]",
            "text/plain": [
              "<Figure size 360x216 with 1 Axes>"
            ]
          },
          "metadata": {
            "tags": [],
            "needs_background": "light"
          }
        }
      ]
    },
    {
      "cell_type": "markdown",
      "metadata": {
        "id": "arAfVRIZBbg9"
      },
      "source": [
        "### **Swish Function**"
      ]
    },
    {
      "cell_type": "code",
      "metadata": {
        "id": "e5vub6SpBfUZ"
      },
      "source": [
        "beta =1\n",
        "def swish(x):\n",
        "    return 2*x*sigmoid(beta*x)"
      ],
      "execution_count": 25,
      "outputs": []
    },
    {
      "cell_type": "code",
      "metadata": {
        "id": "19mTwxnzBg8q"
      },
      "source": [
        "x = [float(x1)/100 for x1 in range(-500,500)] #input\n",
        "y = [swish(x2) for x2 in x]  #output"
      ],
      "execution_count": 26,
      "outputs": []
    },
    {
      "cell_type": "code",
      "metadata": {
        "colab": {
          "base_uri": "https://localhost:8080/",
          "height": 241
        },
        "id": "cQROnHZPBiXg",
        "outputId": "53c22fa0-0de7-4346-9416-d1f4b21bef5b"
      },
      "source": [
        "plot_fun(x,y,'Swish-Function')"
      ],
      "execution_count": 27,
      "outputs": [
        {
          "output_type": "display_data",
          "data": {
            "image/png": "[encoded data removed]",
            "text/plain": [
              "<Figure size 360x216 with 1 Axes>"
            ]
          },
          "metadata": {
            "tags": [],
            "needs_background": "light"
          }
        }
      ]
    }
  ]
}