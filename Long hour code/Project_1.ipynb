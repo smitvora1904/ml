{
  "nbformat": 4,
  "nbformat_minor": 0,
  "metadata": {
    "colab": {
      "name": "Project 1.ipynb",
      "provenance": []
    },
    "kernelspec": {
      "name": "python3",
      "display_name": "Python 3"
    },
    "language_info": {
      "name": "python"
    }
  },
  "cells": [
    {
      "cell_type": "markdown",
      "metadata": {
        "id": "b1-aT1uMM5nE"
      },
      "source": [
        "### **For India**"
      ]
    },
    {
      "cell_type": "code",
      "metadata": {
        "id": "PFwUhYWpfYyX"
      },
      "source": [
        "import numpy as np\n",
        "import matplotlib.pyplot as plt\n",
        "import pandas as pd"
      ],
      "execution_count": 1,
      "outputs": []
    },
    {
      "cell_type": "code",
      "metadata": {
        "id": "wgFAi7cSyJEi"
      },
      "source": [
        "from google.colab import drive #to import google drive data"
      ],
      "execution_count": 2,
      "outputs": []
    },
    {
      "cell_type": "code",
      "metadata": {
        "colab": {
          "base_uri": "https://localhost:8080/"
        },
        "id": "W4f-jr7pyJB-",
        "outputId": "138f6ec2-1b6f-4d6f-cf0c-98007029f7b9"
      },
      "source": [
        "drive.mount('/content/drive') # to mount the drive data into colab cloud and enter the activation code"
      ],
      "execution_count": 3,
      "outputs": [
        {
          "output_type": "stream",
          "text": [
            "Drive already mounted at /content/drive; to attempt to forcibly remount, call drive.mount(\"/content/drive\", force_remount=True).\n"
          ],
          "name": "stdout"
        }
      ]
    },
    {
      "cell_type": "code",
      "metadata": {
        "colab": {
          "base_uri": "https://localhost:8080/"
        },
        "id": "0Cps1O_6yI_z",
        "outputId": "370174e4-5482-4d20-a1aa-02cac1b9322b"
      },
      "source": [
        "cd /content/drive/\"My Drive/ML nishit sir/LHC\""
      ],
      "execution_count": 4,
      "outputs": [
        {
          "output_type": "stream",
          "text": [
            "/content/drive/My Drive/ML nishit sir/LHC\n"
          ],
          "name": "stdout"
        }
      ]
    },
    {
      "cell_type": "code",
      "metadata": {
        "id": "EAmfp2WmyI9W"
      },
      "source": [
        "dataset_confirmed=pd.read_csv(\"time_series_covid19_confirmed_global.csv\")\n",
        "dataset_deaths=pd.read_csv(\"time_series_covid19_deaths_global.csv\")\n",
        "dataset_recovered=pd.read_csv(\"time_series_covid19_recovered_global.csv\")"
      ],
      "execution_count": 5,
      "outputs": []
    },
    {
      "cell_type": "code",
      "metadata": {
        "colab": {
          "base_uri": "https://localhost:8080/"
        },
        "id": "nhc2s1EwyI4o",
        "outputId": "727f66da-0c1e-418d-aa49-c530418b742a"
      },
      "source": [
        "print(dataset_confirmed)"
      ],
      "execution_count": 6,
      "outputs": [
        {
          "output_type": "stream",
          "text": [
            "    Province/State      Country/Region        Lat  ...  5/1/21  5/2/21  5/3/21\n",
            "0              NaN         Afghanistan  33.939110  ...   59939   60122   60300\n",
            "1              NaN             Albania  41.153300  ...  131185  131238  131276\n",
            "2              NaN             Algeria  28.033900  ...  122311  122522  122717\n",
            "3              NaN             Andorra  42.506300  ...   13232   13282   13295\n",
            "4              NaN              Angola -11.202700  ...   26815   26993   27133\n",
            "..             ...                 ...        ...  ...     ...     ...     ...\n",
            "270            NaN             Vietnam  14.058324  ...    2942    2962    2985\n",
            "271            NaN  West Bank and Gaza  31.952200  ...  296462  297638  298203\n",
            "272            NaN               Yemen  15.552727  ...    6325    6341    6363\n",
            "273            NaN              Zambia -13.133897  ...   91670   91693   91722\n",
            "274            NaN            Zimbabwe -19.015438  ...   38260   38281   38293\n",
            "\n",
            "[275 rows x 472 columns]\n"
          ],
          "name": "stdout"
        }
      ]
    },
    {
      "cell_type": "code",
      "metadata": {
        "colab": {
          "base_uri": "https://localhost:8080/"
        },
        "id": "UB8tq5G6zIyj",
        "outputId": "f9c207bf-280d-4e2c-cfea-62e5005a5cc0"
      },
      "source": [
        "print(dataset_deaths) "
      ],
      "execution_count": 7,
      "outputs": [
        {
          "output_type": "stream",
          "text": [
            "    Province/State      Country/Region        Lat  ...  5/1/21  5/2/21  5/3/21\n",
            "0              NaN         Afghanistan  33.939110  ...    2631    2637    2642\n",
            "1              NaN             Albania  41.153300  ...    2396    2397    2399\n",
            "2              NaN             Algeria  28.033900  ...    3261    3270    3280\n",
            "3              NaN             Andorra  42.506300  ...     125     127     127\n",
            "4              NaN              Angola -11.202700  ...     600     602     603\n",
            "..             ...                 ...        ...  ...     ...     ...     ...\n",
            "270            NaN             Vietnam  14.058324  ...      35      35      35\n",
            "271            NaN  West Bank and Gaza  31.952200  ...    3249    3272    3283\n",
            "272            NaN               Yemen  15.552727  ...    1229    1233    1239\n",
            "273            NaN              Zambia -13.133897  ...    1251    1253    1253\n",
            "274            NaN            Zimbabwe -19.015438  ...    1568    1570    1573\n",
            "\n",
            "[275 rows x 472 columns]\n"
          ],
          "name": "stdout"
        }
      ]
    },
    {
      "cell_type": "code",
      "metadata": {
        "colab": {
          "base_uri": "https://localhost:8080/"
        },
        "id": "zUHcdGy7zJcr",
        "outputId": "385bd35d-cdb5-483b-8ee0-9fc36bef3c7d"
      },
      "source": [
        "print(dataset_recovered)"
      ],
      "execution_count": 8,
      "outputs": [
        {
          "output_type": "stream",
          "text": [
            "    Province/State      Country/Region        Lat  ...  5/1/21  5/2/21  5/3/21\n",
            "0              NaN         Afghanistan  33.939110  ...   53272   53391   53391\n",
            "1              NaN             Albania  41.153300  ...  110172  110920  111792\n",
            "2              NaN             Algeria  28.033900  ...   85249   85398   85534\n",
            "3              NaN             Andorra  42.506300  ...   12684   12753   12793\n",
            "4              NaN              Angola -11.202700  ...   23913   23913   24190\n",
            "..             ...                 ...        ...  ...     ...     ...     ...\n",
            "255            NaN             Vietnam  14.058324  ...    2548    2549    2560\n",
            "256            NaN  West Bank and Gaza  31.952200  ...  272333  275392  276171\n",
            "257            NaN               Yemen  15.552727  ...    2794    2875    2910\n",
            "258            NaN              Zambia -13.133897  ...   90012   90082   90130\n",
            "259            NaN            Zimbabwe -19.015438  ...   35620   35634   35647\n",
            "\n",
            "[260 rows x 472 columns]\n"
          ],
          "name": "stdout"
        }
      ]
    },
    {
      "cell_type": "code",
      "metadata": {
        "id": "4CFpDNSkzpdN"
      },
      "source": [
        "dataC=pd.DataFrame(dataset_confirmed)\n",
        "dataD=pd.DataFrame(dataset_deaths)\n",
        "dataR=pd.DataFrame(dataset_recovered)"
      ],
      "execution_count": 9,
      "outputs": []
    },
    {
      "cell_type": "code",
      "metadata": {
        "colab": {
          "base_uri": "https://localhost:8080/"
        },
        "id": "ch7Z8xaM0Vcn",
        "outputId": "af98968c-c4e9-4910-b59a-4fcaae6949ad"
      },
      "source": [
        "#For India\n",
        "dataC_ind=dataC.loc[dataset_confirmed['Country/Region']=='India']\n",
        "dataC_ind= dataC_ind.transpose()\n",
        "dataD_ind=dataD.loc[dataset_deaths['Country/Region']=='India']\n",
        "dataD_ind = dataD_ind.transpose()\n",
        "dataR_ind = dataR.loc[dataset_recovered['Country/Region']=='India']\n",
        "dataR_ind = dataR_ind.transpose()\n"
      ],
      "execution_count": 17,
      "outputs": [
        {
          "output_type": "execute_result",
          "data": {
            "text/plain": [
              "(472, 1)"
            ]
          },
          "metadata": {
            "tags": []
          },
          "execution_count": 17
        }
      ]
    },
    {
      "cell_type": "code",
      "metadata": {
        "id": "j-l2zVJGFIhw"
      },
      "source": [
        "listC= list(dataC_ind.columns.values)\n",
        "listD= list(dataD_ind.columns.values)\n",
        "listR= list(dataR_ind.columns.values)"
      ],
      "execution_count": 11,
      "outputs": []
    },
    {
      "cell_type": "code",
      "metadata": {
        "id": "j9zGvH_LAqlq"
      },
      "source": [
        "dataC_ind = dataC_ind.rename(columns = {listC[0]:'Confirmed'}, inplace = False)\n",
        "dataD_ind = dataD_ind.rename(columns = {listD[0]:'Deaths'}, inplace = False)\n",
        "dataR_ind = dataR_ind.rename(columns = {listR[0]:'Recovered'}, inplace = False)"
      ],
      "execution_count": 12,
      "outputs": []
    },
    {
      "cell_type": "code",
      "metadata": {
        "colab": {
          "base_uri": "https://localhost:8080/"
        },
        "id": "dt7Bls-m393L",
        "outputId": "43e68dc7-3e02-42ef-beff-c08bad7fa6c7"
      },
      "source": [
        "result = pd.concat([dataC_ind, dataD_ind,dataR_ind],axis=1)\n",
        "result=result.iloc[4:,:]\n",
        "result.shape"
      ],
      "execution_count": 18,
      "outputs": [
        {
          "output_type": "execute_result",
          "data": {
            "text/plain": [
              "(468, 3)"
            ]
          },
          "metadata": {
            "tags": []
          },
          "execution_count": 18
        }
      ]
    },
    {
      "cell_type": "code",
      "metadata": {
        "colab": {
          "base_uri": "https://localhost:8080/",
          "height": 276
        },
        "id": "DEIdZLgS0Vaf",
        "outputId": "bee740fc-1908-4b5b-d74a-a32dadd9659d"
      },
      "source": [
        "plt.plot(result.index, result.iloc[:,0:1], label = \"Confirmed\", linestyle='-')\n",
        "plt.plot(result.index, result.iloc[:,1:2], label = \"Deaths\",linestyle='--')\n",
        "plt.plot(result.index, result.iloc[:,2:3], label = \"Recovered\",linestyle='-')\n",
        "plt.legend()\n",
        "plt.show()"
      ],
      "execution_count": 25,
      "outputs": [
        {
          "output_type": "display_data",
          "data": {
            "image/png": "[encoded data removed]",
            "text/plain": [
              "<Figure size 432x288 with 1 Axes>"
            ]
          },
          "metadata": {
            "tags": [],
            "needs_background": "light"
          }
        }
      ]
    },
    {
      "cell_type": "code",
      "metadata": {
        "id": "xix_CWXi0VX7"
      },
      "source": [
        ""
      ],
      "execution_count": null,
      "outputs": []
    },
    {
      "cell_type": "markdown",
      "metadata": {
        "id": "8zBoFMefNBpT"
      },
      "source": [
        "### **For US**"
      ]
    },
    {
      "cell_type": "code",
      "metadata": {
        "id": "iOc2Mxd90VVN"
      },
      "source": [
        "#For US\n",
        "dataC_us=dataC.loc[dataset_confirmed['Country/Region']=='US']\n",
        "dataC_us= dataC_us.transpose()\n",
        "dataD_us=dataD.loc[dataset_deaths['Country/Region']=='US']\n",
        "dataD_us = dataD_us.transpose()\n",
        "dataR_us = dataR.loc[dataset_recovered['Country/Region']=='US']\n",
        "dataR_us = dataR_us.transpose()"
      ],
      "execution_count": 27,
      "outputs": []
    },
    {
      "cell_type": "code",
      "metadata": {
        "id": "gg93Mb0t0VST"
      },
      "source": [
        "listC= list(dataC_us.columns.values)\n",
        "listD= list(dataD_us.columns.values)\n",
        "listR= list(dataR_us.columns.values)"
      ],
      "execution_count": 28,
      "outputs": []
    },
    {
      "cell_type": "code",
      "metadata": {
        "id": "AW5E6FBjNkMH"
      },
      "source": [
        "dataC_us = dataC_us.rename(columns = {listC[0]:'Confirmed'}, inplace = False)\n",
        "dataD_us = dataD_us.rename(columns = {listD[0]:'Deaths'}, inplace = False)\n",
        "dataR_us = dataR_us.rename(columns = {listR[0]:'Recovered'}, inplace = False)"
      ],
      "execution_count": 29,
      "outputs": []
    },
    {
      "cell_type": "code",
      "metadata": {
        "colab": {
          "base_uri": "https://localhost:8080/"
        },
        "id": "yeuFVRq4NkJf",
        "outputId": "26783a03-71d7-460c-e3dc-0a315afcd42a"
      },
      "source": [
        "result = pd.concat([dataC_us, dataD_us,dataR_us],axis=1)\n",
        "result=result.iloc[4:,:]\n",
        "result.shape"
      ],
      "execution_count": 30,
      "outputs": [
        {
          "output_type": "execute_result",
          "data": {
            "text/plain": [
              "(468, 3)"
            ]
          },
          "metadata": {
            "tags": []
          },
          "execution_count": 30
        }
      ]
    },
    {
      "cell_type": "code",
      "metadata": {
        "colab": {
          "base_uri": "https://localhost:8080/",
          "height": 276
        },
        "id": "ALLHlzxTNkGl",
        "outputId": "704d1a41-8776-4e54-ae64-1f568a99a0c6"
      },
      "source": [
        "plt.plot(result.index, result.iloc[:,0:1], label = \"Confirmed\", linestyle='-')\n",
        "plt.plot(result.index, result.iloc[:,1:2], label = \"Deaths\",linestyle='--')\n",
        "plt.plot(result.index, result.iloc[:,2:3], label = \"Recovered\",linestyle='-')\n",
        "plt.legend()\n",
        "plt.show()"
      ],
      "execution_count": 31,
      "outputs": [
        {
          "output_type": "display_data",
          "data": {
            "image/png": "[encoded data removed]",
            "text/plain": [
              "<Figure size 432x288 with 1 Axes>"
            ]
          },
          "metadata": {
            "tags": [],
            "needs_background": "light"
          }
        }
      ]
    },
    {
      "cell_type": "code",
      "metadata": {
        "id": "Aticy-PBOBl8"
      },
      "source": [
        ""
      ],
      "execution_count": null,
      "outputs": []
    },
    {
      "cell_type": "markdown",
      "metadata": {
        "id": "6AKPI_BBN9eC"
      },
      "source": [
        "### **For Italy**"
      ]
    },
    {
      "cell_type": "code",
      "metadata": {
        "id": "81I5QgWOOA8S"
      },
      "source": [
        "#For Italy\n",
        "dataC_italy=dataC.loc[dataset_confirmed['Country/Region']=='Italy']\n",
        "dataC_italy= dataC_italy.transpose()\n",
        "dataD_italy=dataD.loc[dataset_deaths['Country/Region']=='Italy']\n",
        "dataD_italy = dataD_italy.transpose()\n",
        "dataR_italy = dataR.loc[dataset_recovered['Country/Region']=='Italy']\n",
        "dataR_italy = dataR_italy.transpose()"
      ],
      "execution_count": 37,
      "outputs": []
    },
    {
      "cell_type": "code",
      "metadata": {
        "id": "4htWOsCAOGUz"
      },
      "source": [
        "listC= list(dataC_italy.columns.values)\n",
        "listD= list(dataD_italy.columns.values)\n",
        "listR= list(dataR_italy.columns.values)"
      ],
      "execution_count": 38,
      "outputs": []
    },
    {
      "cell_type": "code",
      "metadata": {
        "id": "wt7i51EBOIpJ"
      },
      "source": [
        "dataC_italy = dataC_italy.rename(columns = {listC[0]:'Confirmed'}, inplace = False)\n",
        "dataD_italy = dataD_italy.rename(columns = {listD[0]:'Deaths'}, inplace = False)\n",
        "dataR_italy = dataR_italy.rename(columns = {listR[0]:'Recovered'}, inplace = False)"
      ],
      "execution_count": 39,
      "outputs": []
    },
    {
      "cell_type": "code",
      "metadata": {
        "colab": {
          "base_uri": "https://localhost:8080/"
        },
        "id": "opqwldJuOLCq",
        "outputId": "3ac6fdd9-8bb3-465e-bc2a-37fcf0e823da"
      },
      "source": [
        "result = pd.concat([dataC_italy, dataD_italy,dataR_italy],axis=1)\n",
        "result=result.iloc[4:,:]\n",
        "result.shape"
      ],
      "execution_count": 40,
      "outputs": [
        {
          "output_type": "execute_result",
          "data": {
            "text/plain": [
              "(468, 3)"
            ]
          },
          "metadata": {
            "tags": []
          },
          "execution_count": 40
        }
      ]
    },
    {
      "cell_type": "code",
      "metadata": {
        "colab": {
          "base_uri": "https://localhost:8080/",
          "height": 276
        },
        "id": "NibIjAy1OMbi",
        "outputId": "7cffc9bb-e6ed-4218-e5ec-2c09cffb935d"
      },
      "source": [
        "plt.plot(result.index, result.iloc[:,0:1], label = \"Confirmed\", linestyle='-')\n",
        "plt.plot(result.index, result.iloc[:,1:2], label = \"Deaths\",linestyle='--')\n",
        "plt.plot(result.index, result.iloc[:,2:3], label = \"Recovered\",linestyle='-')\n",
        "plt.legend()\n",
        "plt.show()"
      ],
      "execution_count": 41,
      "outputs": [
        {
          "output_type": "display_data",
          "data": {
            "image/png": "[encoded data removed]",
            "text/plain": [
              "<Figure size 432x288 with 1 Axes>"
            ]
          },
          "metadata": {
            "tags": [],
            "needs_background": "light"
          }
        }
      ]
    },
    {
      "cell_type": "code",
      "metadata": {
        "id": "9wimcNu3QwrO"
      },
      "source": [
        ""
      ],
      "execution_count": null,
      "outputs": []
    },
    {
      "cell_type": "markdown",
      "metadata": {
        "id": "irT_RlKdQ8DA"
      },
      "source": [
        "### **Train the ML model with the hypothesis of regression for India and predict the number of covid cases on 4thMay, 2021**"
      ]
    },
    {
      "cell_type": "code",
      "metadata": {
        "id": "k_qbHm7iRNBf"
      },
      "source": [
        "#For India\n",
        "dataC_ind=dataC.loc[dataset_confirmed['Country/Region']=='India']"
      ],
      "execution_count": 65,
      "outputs": []
    },
    {
      "cell_type": "code",
      "metadata": {
        "id": "HN5yrbH4SJRe"
      },
      "source": [
        "x= np.array([469]).reshape(-1,1)"
      ],
      "execution_count": 54,
      "outputs": []
    },
    {
      "cell_type": "code",
      "metadata": {
        "colab": {
          "base_uri": "https://localhost:8080/",
          "height": 130
        },
        "id": "u8_9vjaATWW9",
        "outputId": "013fbaaa-4ed8-4045-836d-098098b44d3a"
      },
      "source": [
        "dataC_ind.insert(0,\"Feature\",x,True)\n",
        "dataC_ind"
      ],
      "execution_count": 75,
      "outputs": [
        {
          "output_type": "execute_result",
          "data": {
            "text/html": [
              "<div>\n",
              "<style scoped>\n",
              "    .dataframe tbody tr th:only-of-type {\n",
              "        vertical-align: middle;\n",
              "    }\n",
              "\n",
              "    .dataframe tbody tr th {\n",
              "        vertical-align: top;\n",
              "    }\n",
              "\n",
              "    .dataframe thead th {\n",
              "        text-align: right;\n",
              "    }\n",
              "</style>\n",
              "<table border=\"1\" class=\"dataframe\">\n",
              "  <thead>\n",
              "    <tr style=\"text-align: right;\">\n",
              "      <th></th>\n",
              "      <th>Feature</th>\n",
              "      <th>Feature</th>\n",
              "      <th>Province/State</th>\n",
              "      <th>Country/Region</th>\n",
              "      <th>Lat</th>\n",
              "      <th>Long</th>\n",
              "      <th>1/22/20</th>\n",
              "      <th>1/23/20</th>\n",
              "      <th>1/24/20</th>\n",
              "      <th>1/25/20</th>\n",
              "      <th>1/26/20</th>\n",
              "      <th>1/27/20</th>\n",
              "      <th>1/28/20</th>\n",
              "      <th>1/29/20</th>\n",
              "      <th>1/30/20</th>\n",
              "      <th>1/31/20</th>\n",
              "      <th>2/1/20</th>\n",
              "      <th>2/2/20</th>\n",
              "      <th>2/3/20</th>\n",
              "      <th>2/4/20</th>\n",
              "      <th>2/5/20</th>\n",
              "      <th>2/6/20</th>\n",
              "      <th>2/7/20</th>\n",
              "      <th>2/8/20</th>\n",
              "      <th>2/9/20</th>\n",
              "      <th>2/10/20</th>\n",
              "      <th>2/11/20</th>\n",
              "      <th>2/12/20</th>\n",
              "      <th>2/13/20</th>\n",
              "      <th>2/14/20</th>\n",
              "      <th>2/15/20</th>\n",
              "      <th>2/16/20</th>\n",
              "      <th>2/17/20</th>\n",
              "      <th>2/18/20</th>\n",
              "      <th>2/19/20</th>\n",
              "      <th>2/20/20</th>\n",
              "      <th>2/21/20</th>\n",
              "      <th>2/22/20</th>\n",
              "      <th>2/23/20</th>\n",
              "      <th>2/24/20</th>\n",
              "      <th>...</th>\n",
              "      <th>3/25/21</th>\n",
              "      <th>3/26/21</th>\n",
              "      <th>3/27/21</th>\n",
              "      <th>3/28/21</th>\n",
              "      <th>3/29/21</th>\n",
              "      <th>3/30/21</th>\n",
              "      <th>3/31/21</th>\n",
              "      <th>4/1/21</th>\n",
              "      <th>4/2/21</th>\n",
              "      <th>4/3/21</th>\n",
              "      <th>4/4/21</th>\n",
              "      <th>4/5/21</th>\n",
              "      <th>4/6/21</th>\n",
              "      <th>4/7/21</th>\n",
              "      <th>4/8/21</th>\n",
              "      <th>4/9/21</th>\n",
              "      <th>4/10/21</th>\n",
              "      <th>4/11/21</th>\n",
              "      <th>4/12/21</th>\n",
              "      <th>4/13/21</th>\n",
              "      <th>4/14/21</th>\n",
              "      <th>4/15/21</th>\n",
              "      <th>4/16/21</th>\n",
              "      <th>4/17/21</th>\n",
              "      <th>4/18/21</th>\n",
              "      <th>4/19/21</th>\n",
              "      <th>4/20/21</th>\n",
              "      <th>4/21/21</th>\n",
              "      <th>4/22/21</th>\n",
              "      <th>4/23/21</th>\n",
              "      <th>4/24/21</th>\n",
              "      <th>4/25/21</th>\n",
              "      <th>4/26/21</th>\n",
              "      <th>4/27/21</th>\n",
              "      <th>4/28/21</th>\n",
              "      <th>4/29/21</th>\n",
              "      <th>4/30/21</th>\n",
              "      <th>5/1/21</th>\n",
              "      <th>5/2/21</th>\n",
              "      <th>5/3/21</th>\n",
              "    </tr>\n",
              "  </thead>\n",
              "  <tbody>\n",
              "    <tr>\n",
              "      <th>147</th>\n",
              "      <td>469</td>\n",
              "      <td>469</td>\n",
              "      <td>NaN</td>\n",
              "      <td>India</td>\n",
              "      <td>20.593684</td>\n",
              "      <td>78.96288</td>\n",
              "      <td>0</td>\n",
              "      <td>0</td>\n",
              "      <td>0</td>\n",
              "      <td>0</td>\n",
              "      <td>0</td>\n",
              "      <td>0</td>\n",
              "      <td>0</td>\n",
              "      <td>0</td>\n",
              "      <td>1</td>\n",
              "      <td>1</td>\n",
              "      <td>1</td>\n",
              "      <td>2</td>\n",
              "      <td>3</td>\n",
              "      <td>3</td>\n",
              "      <td>3</td>\n",
              "      <td>3</td>\n",
              "      <td>3</td>\n",
              "      <td>3</td>\n",
              "      <td>3</td>\n",
              "      <td>3</td>\n",
              "      <td>3</td>\n",
              "      <td>3</td>\n",
              "      <td>3</td>\n",
              "      <td>3</td>\n",
              "      <td>3</td>\n",
              "      <td>3</td>\n",
              "      <td>3</td>\n",
              "      <td>3</td>\n",
              "      <td>3</td>\n",
              "      <td>3</td>\n",
              "      <td>3</td>\n",
              "      <td>3</td>\n",
              "      <td>3</td>\n",
              "      <td>3</td>\n",
              "      <td>...</td>\n",
              "      <td>11846652</td>\n",
              "      <td>11908910</td>\n",
              "      <td>11971624</td>\n",
              "      <td>12039644</td>\n",
              "      <td>12095855</td>\n",
              "      <td>12149335</td>\n",
              "      <td>12221665</td>\n",
              "      <td>12303131</td>\n",
              "      <td>12392260</td>\n",
              "      <td>12485509</td>\n",
              "      <td>12589067</td>\n",
              "      <td>12686049</td>\n",
              "      <td>12801785</td>\n",
              "      <td>12928574</td>\n",
              "      <td>13060542</td>\n",
              "      <td>13205926</td>\n",
              "      <td>13358805</td>\n",
              "      <td>13527717</td>\n",
              "      <td>13689453</td>\n",
              "      <td>13873825</td>\n",
              "      <td>14074564</td>\n",
              "      <td>14291917</td>\n",
              "      <td>14526609</td>\n",
              "      <td>14788003</td>\n",
              "      <td>15061805</td>\n",
              "      <td>15320972</td>\n",
              "      <td>15616130</td>\n",
              "      <td>15930774</td>\n",
              "      <td>16263695</td>\n",
              "      <td>16610481</td>\n",
              "      <td>16960172</td>\n",
              "      <td>17313163</td>\n",
              "      <td>17636186</td>\n",
              "      <td>17997113</td>\n",
              "      <td>18376421</td>\n",
              "      <td>18762976</td>\n",
              "      <td>19164969</td>\n",
              "      <td>19557457</td>\n",
              "      <td>19925517</td>\n",
              "      <td>19925604</td>\n",
              "    </tr>\n",
              "  </tbody>\n",
              "</table>\n",
              "<p>1 rows × 474 columns</p>\n",
              "</div>"
            ],
            "text/plain": [
              "     Feature  Feature Province/State  ...    5/1/21    5/2/21    5/3/21\n",
              "147      469      469            NaN  ...  19557457  19925517  19925604\n",
              "\n",
              "[1 rows x 474 columns]"
            ]
          },
          "metadata": {
            "tags": []
          },
          "execution_count": 75
        }
      ]
    },
    {
      "cell_type": "code",
      "metadata": {
        "colab": {
          "base_uri": "https://localhost:8080/"
        },
        "id": "fa5WbmaVTuMv",
        "outputId": "d0cef9e8-34fb-4c3e-9c26-e65fe6de6694"
      },
      "source": [
        "from sklearn.linear_model import LinearRegression\n",
        "from sklearn.model_selection import train_test_split\n",
        "\n",
        "x=dataC_ind.iloc[:,0:1]\n",
        "y=dataC_ind.iloc[:,-1]\n",
        "\n",
        "regr=LinearRegression().fit(x,y)\n",
        "data=np.array([469]).reshape(-1,1)\n",
        "\n",
        "y_predict= regr.predict(data)\n",
        "print(y_predict)"
      ],
      "execution_count": 76,
      "outputs": [
        {
          "output_type": "stream",
          "text": [
            "[19925604.]\n"
          ],
          "name": "stdout"
        }
      ]
    },
    {
      "cell_type": "code",
      "metadata": {
        "colab": {
          "base_uri": "https://localhost:8080/",
          "height": 295
        },
        "id": "4u0936TS1dOB",
        "outputId": "068ac46d-ec1c-489f-d589-c99fd870b7d0"
      },
      "source": [
        "from sklearn.linear_model import LinearRegression\n",
        "from sklearn.model_selection import train_test_split\n",
        "from sklearn.preprocessing import PolynomialFeatures\n",
        "\n",
        "\n",
        "x=dataC_ind.iloc[:,0:1]\n",
        "y=dataC_ind.iloc[:,-1]\n",
        "\n",
        "\n",
        "  \n",
        "poly = PolynomialFeatures(degree = 4)\n",
        "X_poly = poly.fit_transform(x)\n",
        "  \n",
        "poly.fit(X_poly, y)\n",
        "\n",
        "# Visualising the Polynomial Regression results\n",
        "plt.scatter(x, y, color = 'blue')\n",
        "  \n",
        "plt.plot(x, lin2.predict(poly.fit_transform(x)), color = 'red')\n",
        "plt.title('Polynomial Regression')\n",
        "plt.xlabel('Temperature')\n",
        "plt.ylabel('Pressure')\n",
        "  \n",
        "plt.show()"
      ],
      "execution_count": 82,
      "outputs": [
        {
          "output_type": "display_data",
          "data": {
            "image/png": "[encoded data removed]",
            "text/plain": [
              "<Figure size 432x288 with 1 Axes>"
            ]
          },
          "metadata": {
            "tags": [],
            "needs_background": "light"
          }
        }
      ]
    },
    {
      "cell_type": "code",
      "metadata": {
        "id": "qFlv9zWPwy5M"
      },
      "source": [
        ""
      ],
      "execution_count": null,
      "outputs": []
    },
    {
      "cell_type": "markdown",
      "metadata": {
        "id": "fIiPPWMPyV0f"
      },
      "source": [
        "### **For Gujarat**"
      ]
    },
    {
      "cell_type": "code",
      "metadata": {
        "id": "eYY8JRscybtq"
      },
      "source": [
        ""
      ],
      "execution_count": null,
      "outputs": []
    },
    {
      "cell_type": "code",
      "metadata": {
        "id": "6mMVLSAiycPx"
      },
      "source": [
        ""
      ],
      "execution_count": null,
      "outputs": []
    }
  ]
}