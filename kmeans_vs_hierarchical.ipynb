{
  "nbformat": 4,
  "nbformat_minor": 0,
  "metadata": {
    "colab": {
      "name": "kmeans vs hierarchical.ipynb",
      "provenance": []
    },
    "kernelspec": {
      "name": "python3",
      "display_name": "Python 3"
    },
    "language_info": {
      "name": "python"
    }
  },
  "cells": [
    {
      "cell_type": "code",
      "metadata": {
        "id": "PkwegClXwvU3"
      },
      "source": [
        "import numpy as np  #does mathematical operation\n",
        "import matplotlib.pyplot as plt #For plotting the graphs\n",
        "import pandas as pd #making the data frames and import the csv files"
      ],
      "execution_count": 1,
      "outputs": []
    },
    {
      "cell_type": "code",
      "metadata": {
        "id": "wchGJmWKxzxd"
      },
      "source": [
        "from google.colab import drive #to import the google drive data"
      ],
      "execution_count": 2,
      "outputs": []
    },
    {
      "cell_type": "code",
      "metadata": {
        "colab": {
          "base_uri": "https://localhost:8080/"
        },
        "id": "ZXKpV5eZxzus",
        "outputId": "22e30309-0d7a-4386-93a0-d72d67f7cc85"
      },
      "source": [
        "drive.mount('/content/drive')   # to mount the drive data into the colab cloud and enter the activation code"
      ],
      "execution_count": 3,
      "outputs": [
        {
          "output_type": "stream",
          "text": [
            "Drive already mounted at /content/drive; to attempt to forcibly remount, call drive.mount(\"/content/drive\", force_remount=True).\n"
          ],
          "name": "stdout"
        }
      ]
    },
    {
      "cell_type": "code",
      "metadata": {
        "colab": {
          "base_uri": "https://localhost:8080/"
        },
        "id": "6ojGqsQDxzsj",
        "outputId": "2064ad94-f300-4c86-b57c-cdb1a883b300"
      },
      "source": [
        "cd /content/drive/\"My Drive/ML nishit sir/kmean_vs_hierarchical\" "
      ],
      "execution_count": 4,
      "outputs": [
        {
          "output_type": "stream",
          "text": [
            "/content/drive/My Drive/ML nishit sir/kmean_vs_hierarchical\n"
          ],
          "name": "stdout"
        }
      ]
    },
    {
      "cell_type": "code",
      "metadata": {
        "colab": {
          "base_uri": "https://localhost:8080/",
          "height": 424
        },
        "id": "N05HZ2KcxzqL",
        "outputId": "8bbae178-08e4-4b53-aa6c-37fb9c62ada3"
      },
      "source": [
        "#dataset = pd.read_csv('kaggle_Interests_group.csv')\n",
        "dataset=pd.read_excel('COVID-19-geographic-disbtribution-worldwide.xlsx')\n",
        "dataset.dropna()"
      ],
      "execution_count": 5,
      "outputs": [
        {
          "output_type": "execute_result",
          "data": {
            "text/html": [
              "<div>\n",
              "<style scoped>\n",
              "    .dataframe tbody tr th:only-of-type {\n",
              "        vertical-align: middle;\n",
              "    }\n",
              "\n",
              "    .dataframe tbody tr th {\n",
              "        vertical-align: top;\n",
              "    }\n",
              "\n",
              "    .dataframe thead th {\n",
              "        text-align: right;\n",
              "    }\n",
              "</style>\n",
              "<table border=\"1\" class=\"dataframe\">\n",
              "  <thead>\n",
              "    <tr style=\"text-align: right;\">\n",
              "      <th></th>\n",
              "      <th>dateRep</th>\n",
              "      <th>day</th>\n",
              "      <th>month</th>\n",
              "      <th>year</th>\n",
              "      <th>cases</th>\n",
              "      <th>deaths</th>\n",
              "      <th>countriesAndTerritories</th>\n",
              "      <th>geoId</th>\n",
              "      <th>countryterritoryCode</th>\n",
              "      <th>popData2018</th>\n",
              "    </tr>\n",
              "  </thead>\n",
              "  <tbody>\n",
              "    <tr>\n",
              "      <th>0</th>\n",
              "      <td>2020-04-06</td>\n",
              "      <td>6</td>\n",
              "      <td>4</td>\n",
              "      <td>2020</td>\n",
              "      <td>29</td>\n",
              "      <td>2</td>\n",
              "      <td>Afghanistan</td>\n",
              "      <td>AF</td>\n",
              "      <td>AFG</td>\n",
              "      <td>37172386.0</td>\n",
              "    </tr>\n",
              "    <tr>\n",
              "      <th>1</th>\n",
              "      <td>2020-04-05</td>\n",
              "      <td>5</td>\n",
              "      <td>4</td>\n",
              "      <td>2020</td>\n",
              "      <td>35</td>\n",
              "      <td>1</td>\n",
              "      <td>Afghanistan</td>\n",
              "      <td>AF</td>\n",
              "      <td>AFG</td>\n",
              "      <td>37172386.0</td>\n",
              "    </tr>\n",
              "    <tr>\n",
              "      <th>2</th>\n",
              "      <td>2020-04-04</td>\n",
              "      <td>4</td>\n",
              "      <td>4</td>\n",
              "      <td>2020</td>\n",
              "      <td>0</td>\n",
              "      <td>0</td>\n",
              "      <td>Afghanistan</td>\n",
              "      <td>AF</td>\n",
              "      <td>AFG</td>\n",
              "      <td>37172386.0</td>\n",
              "    </tr>\n",
              "    <tr>\n",
              "      <th>3</th>\n",
              "      <td>2020-04-03</td>\n",
              "      <td>3</td>\n",
              "      <td>4</td>\n",
              "      <td>2020</td>\n",
              "      <td>43</td>\n",
              "      <td>0</td>\n",
              "      <td>Afghanistan</td>\n",
              "      <td>AF</td>\n",
              "      <td>AFG</td>\n",
              "      <td>37172386.0</td>\n",
              "    </tr>\n",
              "    <tr>\n",
              "      <th>4</th>\n",
              "      <td>2020-04-02</td>\n",
              "      <td>2</td>\n",
              "      <td>4</td>\n",
              "      <td>2020</td>\n",
              "      <td>26</td>\n",
              "      <td>0</td>\n",
              "      <td>Afghanistan</td>\n",
              "      <td>AF</td>\n",
              "      <td>AFG</td>\n",
              "      <td>37172386.0</td>\n",
              "    </tr>\n",
              "    <tr>\n",
              "      <th>...</th>\n",
              "      <td>...</td>\n",
              "      <td>...</td>\n",
              "      <td>...</td>\n",
              "      <td>...</td>\n",
              "      <td>...</td>\n",
              "      <td>...</td>\n",
              "      <td>...</td>\n",
              "      <td>...</td>\n",
              "      <td>...</td>\n",
              "      <td>...</td>\n",
              "    </tr>\n",
              "    <tr>\n",
              "      <th>9102</th>\n",
              "      <td>2020-03-25</td>\n",
              "      <td>25</td>\n",
              "      <td>3</td>\n",
              "      <td>2020</td>\n",
              "      <td>0</td>\n",
              "      <td>0</td>\n",
              "      <td>Zimbabwe</td>\n",
              "      <td>ZW</td>\n",
              "      <td>ZWE</td>\n",
              "      <td>14439018.0</td>\n",
              "    </tr>\n",
              "    <tr>\n",
              "      <th>9103</th>\n",
              "      <td>2020-03-24</td>\n",
              "      <td>24</td>\n",
              "      <td>3</td>\n",
              "      <td>2020</td>\n",
              "      <td>0</td>\n",
              "      <td>1</td>\n",
              "      <td>Zimbabwe</td>\n",
              "      <td>ZW</td>\n",
              "      <td>ZWE</td>\n",
              "      <td>14439018.0</td>\n",
              "    </tr>\n",
              "    <tr>\n",
              "      <th>9104</th>\n",
              "      <td>2020-03-23</td>\n",
              "      <td>23</td>\n",
              "      <td>3</td>\n",
              "      <td>2020</td>\n",
              "      <td>0</td>\n",
              "      <td>0</td>\n",
              "      <td>Zimbabwe</td>\n",
              "      <td>ZW</td>\n",
              "      <td>ZWE</td>\n",
              "      <td>14439018.0</td>\n",
              "    </tr>\n",
              "    <tr>\n",
              "      <th>9105</th>\n",
              "      <td>2020-03-22</td>\n",
              "      <td>22</td>\n",
              "      <td>3</td>\n",
              "      <td>2020</td>\n",
              "      <td>1</td>\n",
              "      <td>0</td>\n",
              "      <td>Zimbabwe</td>\n",
              "      <td>ZW</td>\n",
              "      <td>ZWE</td>\n",
              "      <td>14439018.0</td>\n",
              "    </tr>\n",
              "    <tr>\n",
              "      <th>9106</th>\n",
              "      <td>2020-03-21</td>\n",
              "      <td>21</td>\n",
              "      <td>3</td>\n",
              "      <td>2020</td>\n",
              "      <td>1</td>\n",
              "      <td>0</td>\n",
              "      <td>Zimbabwe</td>\n",
              "      <td>ZW</td>\n",
              "      <td>ZWE</td>\n",
              "      <td>14439018.0</td>\n",
              "    </tr>\n",
              "  </tbody>\n",
              "</table>\n",
              "<p>8984 rows × 10 columns</p>\n",
              "</div>"
            ],
            "text/plain": [
              "        dateRep  day  month  ...  geoId  countryterritoryCode  popData2018\n",
              "0    2020-04-06    6      4  ...     AF                   AFG   37172386.0\n",
              "1    2020-04-05    5      4  ...     AF                   AFG   37172386.0\n",
              "2    2020-04-04    4      4  ...     AF                   AFG   37172386.0\n",
              "3    2020-04-03    3      4  ...     AF                   AFG   37172386.0\n",
              "4    2020-04-02    2      4  ...     AF                   AFG   37172386.0\n",
              "...         ...  ...    ...  ...    ...                   ...          ...\n",
              "9102 2020-03-25   25      3  ...     ZW                   ZWE   14439018.0\n",
              "9103 2020-03-24   24      3  ...     ZW                   ZWE   14439018.0\n",
              "9104 2020-03-23   23      3  ...     ZW                   ZWE   14439018.0\n",
              "9105 2020-03-22   22      3  ...     ZW                   ZWE   14439018.0\n",
              "9106 2020-03-21   21      3  ...     ZW                   ZWE   14439018.0\n",
              "\n",
              "[8984 rows x 10 columns]"
            ]
          },
          "metadata": {
            "tags": []
          },
          "execution_count": 5
        }
      ]
    },
    {
      "cell_type": "code",
      "metadata": {
        "colab": {
          "base_uri": "https://localhost:8080/",
          "height": 300
        },
        "id": "RQWnCDrNxzoE",
        "outputId": "162970cf-a986-488e-b0b4-18168003edf7"
      },
      "source": [
        "dataset.describe()"
      ],
      "execution_count": 6,
      "outputs": [
        {
          "output_type": "execute_result",
          "data": {
            "text/html": [
              "<div>\n",
              "<style scoped>\n",
              "    .dataframe tbody tr th:only-of-type {\n",
              "        vertical-align: middle;\n",
              "    }\n",
              "\n",
              "    .dataframe tbody tr th {\n",
              "        vertical-align: top;\n",
              "    }\n",
              "\n",
              "    .dataframe thead th {\n",
              "        text-align: right;\n",
              "    }\n",
              "</style>\n",
              "<table border=\"1\" class=\"dataframe\">\n",
              "  <thead>\n",
              "    <tr style=\"text-align: right;\">\n",
              "      <th></th>\n",
              "      <th>day</th>\n",
              "      <th>month</th>\n",
              "      <th>year</th>\n",
              "      <th>cases</th>\n",
              "      <th>deaths</th>\n",
              "      <th>popData2018</th>\n",
              "    </tr>\n",
              "  </thead>\n",
              "  <tbody>\n",
              "    <tr>\n",
              "      <th>count</th>\n",
              "      <td>9107.000000</td>\n",
              "      <td>9107.000000</td>\n",
              "      <td>9107.000000</td>\n",
              "      <td>9107.000000</td>\n",
              "      <td>9107.000000</td>\n",
              "      <td>9.071000e+03</td>\n",
              "    </tr>\n",
              "    <tr>\n",
              "      <th>mean</th>\n",
              "      <td>15.907214</td>\n",
              "      <td>2.529044</td>\n",
              "      <td>2019.992643</td>\n",
              "      <td>136.644449</td>\n",
              "      <td>7.573954</td>\n",
              "      <td>6.489138e+07</td>\n",
              "    </tr>\n",
              "    <tr>\n",
              "      <th>std</th>\n",
              "      <td>9.477003</td>\n",
              "      <td>1.277587</td>\n",
              "      <td>0.085461</td>\n",
              "      <td>1066.277024</td>\n",
              "      <td>64.457522</td>\n",
              "      <td>2.026879e+08</td>\n",
              "    </tr>\n",
              "    <tr>\n",
              "      <th>min</th>\n",
              "      <td>1.000000</td>\n",
              "      <td>1.000000</td>\n",
              "      <td>2019.000000</td>\n",
              "      <td>-9.000000</td>\n",
              "      <td>0.000000</td>\n",
              "      <td>1.000000e+03</td>\n",
              "    </tr>\n",
              "    <tr>\n",
              "      <th>25%</th>\n",
              "      <td>6.000000</td>\n",
              "      <td>2.000000</td>\n",
              "      <td>2020.000000</td>\n",
              "      <td>0.000000</td>\n",
              "      <td>0.000000</td>\n",
              "      <td>3.731000e+06</td>\n",
              "    </tr>\n",
              "    <tr>\n",
              "      <th>50%</th>\n",
              "      <td>17.000000</td>\n",
              "      <td>3.000000</td>\n",
              "      <td>2020.000000</td>\n",
              "      <td>0.000000</td>\n",
              "      <td>0.000000</td>\n",
              "      <td>1.062570e+07</td>\n",
              "    </tr>\n",
              "    <tr>\n",
              "      <th>75%</th>\n",
              "      <td>24.000000</td>\n",
              "      <td>3.000000</td>\n",
              "      <td>2020.000000</td>\n",
              "      <td>11.000000</td>\n",
              "      <td>0.000000</td>\n",
              "      <td>4.272314e+07</td>\n",
              "    </tr>\n",
              "    <tr>\n",
              "      <th>max</th>\n",
              "      <td>31.000000</td>\n",
              "      <td>12.000000</td>\n",
              "      <td>2020.000000</td>\n",
              "      <td>34272.000000</td>\n",
              "      <td>2004.000000</td>\n",
              "      <td>1.392730e+09</td>\n",
              "    </tr>\n",
              "  </tbody>\n",
              "</table>\n",
              "</div>"
            ],
            "text/plain": [
              "               day        month  ...       deaths   popData2018\n",
              "count  9107.000000  9107.000000  ...  9107.000000  9.071000e+03\n",
              "mean     15.907214     2.529044  ...     7.573954  6.489138e+07\n",
              "std       9.477003     1.277587  ...    64.457522  2.026879e+08\n",
              "min       1.000000     1.000000  ...     0.000000  1.000000e+03\n",
              "25%       6.000000     2.000000  ...     0.000000  3.731000e+06\n",
              "50%      17.000000     3.000000  ...     0.000000  1.062570e+07\n",
              "75%      24.000000     3.000000  ...     0.000000  4.272314e+07\n",
              "max      31.000000    12.000000  ...  2004.000000  1.392730e+09\n",
              "\n",
              "[8 rows x 6 columns]"
            ]
          },
          "metadata": {
            "tags": []
          },
          "execution_count": 6
        }
      ]
    },
    {
      "cell_type": "code",
      "metadata": {
        "colab": {
          "base_uri": "https://localhost:8080/"
        },
        "id": "6YF2-T9ExzlQ",
        "outputId": "969b6ae4-ea49-49d7-9645-a6eadee4a659"
      },
      "source": [
        "x = dataset.iloc[np.r_[1495:1592,3822:3918,2991:3802,4412:4456,8512:8535],4:6].values  #Canada,India,France,Italy,Turkey\n",
        "x.shape"
      ],
      "execution_count": 20,
      "outputs": [
        {
          "output_type": "execute_result",
          "data": {
            "text/plain": [
              "(1071, 2)"
            ]
          },
          "metadata": {
            "tags": []
          },
          "execution_count": 20
        }
      ]
    },
    {
      "cell_type": "code",
      "metadata": {
        "id": "A85MQIrVxzjC"
      },
      "source": [
        "import scipy.cluster.hierarchy as sch"
      ],
      "execution_count": 8,
      "outputs": []
    },
    {
      "cell_type": "code",
      "metadata": {
        "colab": {
          "base_uri": "https://localhost:8080/",
          "height": 268
        },
        "id": "Gr8TmJKRxzgI",
        "outputId": "1766ca9c-9548-41e2-ef67-33a8d0d2f076"
      },
      "source": [
        "#import sys\n",
        "#sys.setrecursionlimit(50)\n",
        "dendogram = sch.dendrogram(sch.linkage(x,method='ward'))"
      ],
      "execution_count": 9,
      "outputs": [
        {
          "output_type": "display_data",
          "data": {
            "image/png": "[encoded data removed]",
            "text/plain": [
              "<Figure size 432x288 with 1 Axes>"
            ]
          },
          "metadata": {
            "tags": [],
            "needs_background": "light"
          }
        }
      ]
    },
    {
      "cell_type": "code",
      "metadata": {
        "id": "2LETB9upxzde"
      },
      "source": [
        "from sklearn.cluster import AgglomerativeClustering"
      ],
      "execution_count": 10,
      "outputs": []
    },
    {
      "cell_type": "code",
      "metadata": {
        "id": "Iy38vcyCxzY-"
      },
      "source": [
        "hc = AgglomerativeClustering(n_clusters=5,affinity='euclidean',linkage='ward')"
      ],
      "execution_count": 11,
      "outputs": []
    },
    {
      "cell_type": "code",
      "metadata": {
        "id": "8jnCzA0JxzWV"
      },
      "source": [
        "y_hc = hc.fit_predict(x)"
      ],
      "execution_count": 12,
      "outputs": []
    },
    {
      "cell_type": "code",
      "metadata": {
        "colab": {
          "base_uri": "https://localhost:8080/",
          "height": 313
        },
        "id": "xjYMVCHfxzTn",
        "outputId": "f5469e61-e9c7-4add-d778-1ff6672e7b66"
      },
      "source": [
        "#Visualiz the Cluster\n",
        "plt.scatter(x[y_hc==0,0],x[y_hc==0,1],s=50,c='red',label='Cluser 1')\n",
        "plt.scatter(x[y_hc==1,0],x[y_hc==1,1],s=50,c='blue',label='Cluser 2')\n",
        "plt.scatter(x[y_hc==2,0],x[y_hc==2,1],s=50,c='green',label='Cluser 3')\n",
        "plt.scatter(x[y_hc==3,0],x[y_hc==3,1],s=50,c='yellow',label='Cluser 4')\n",
        "plt.scatter(x[y_hc==4,0],x[y_hc==4,1],s=50,c='magenta',label='Cluser 5')\n",
        "plt.title('Hierarchical Clustering')\n",
        "plt.xlabel('Cases')\n",
        "plt.ylabel('Deaths')\n",
        "plt.legend()"
      ],
      "execution_count": 13,
      "outputs": [
        {
          "output_type": "execute_result",
          "data": {
            "text/plain": [
              "<matplotlib.legend.Legend at 0x7ff04da66850>"
            ]
          },
          "metadata": {
            "tags": []
          },
          "execution_count": 13
        },
        {
          "output_type": "display_data",
          "data": {
            "image/png": "[encoded data removed]",
            "text/plain": [
              "<Figure size 432x288 with 1 Axes>"
            ]
          },
          "metadata": {
            "tags": [],
            "needs_background": "light"
          }
        }
      ]
    },
    {
      "cell_type": "code",
      "metadata": {
        "id": "G2LiGywMxzMm"
      },
      "source": [
        "from sklearn.cluster import KMeans"
      ],
      "execution_count": 14,
      "outputs": []
    },
    {
      "cell_type": "code",
      "metadata": {
        "colab": {
          "base_uri": "https://localhost:8080/",
          "height": 295
        },
        "id": "z7xlmMwtxzB_",
        "outputId": "5705334a-7e00-4b20-cc1d-a20620499312"
      },
      "source": [
        "wcss=[]\n",
        "for i in range(1,10):\n",
        "    kmeans= KMeans(n_clusters=i,init='k-means++',random_state=0)\n",
        "    kmeans.fit(x)\n",
        "    wcss.append(kmeans.inertia_)\n",
        "plt.plot(range(1,10),wcss)\n",
        "plt.title('The Elbow Method')\n",
        "plt.xlabel('Number of clusters')\n",
        "plt.ylabel('WCSS')\n",
        "plt.show()"
      ],
      "execution_count": 15,
      "outputs": [
        {
          "output_type": "display_data",
          "data": {
            "image/png": "[encoded data removed]",
            "text/plain": [
              "<Figure size 432x288 with 1 Axes>"
            ]
          },
          "metadata": {
            "tags": [],
            "needs_background": "light"
          }
        }
      ]
    },
    {
      "cell_type": "code",
      "metadata": {
        "id": "i-GltWAs7za2"
      },
      "source": [
        "kmeans= KMeans(n_clusters=5,init='k-means++',random_state=0)\n",
        "y_kmeans=kmeans.fit_predict(x)"
      ],
      "execution_count": 16,
      "outputs": []
    },
    {
      "cell_type": "code",
      "metadata": {
        "colab": {
          "base_uri": "https://localhost:8080/",
          "height": 313
        },
        "id": "aUe4Cx1S7zZH",
        "outputId": "13c8837a-c700-477a-cab3-510237db3b29"
      },
      "source": [
        "#Visualiz the Cluster\n",
        "plt.scatter(x[y_kmeans==0,0],x[y_kmeans==0,1],s=50,c='red',label='Cluser 1')\n",
        "plt.scatter(x[y_kmeans==1,0],x[y_kmeans==1,1],s=50,c='blue',label='Cluser 2')\n",
        "plt.scatter(x[y_kmeans==2,0],x[y_kmeans==2,1],s=50,c='green',label='Cluser 3')\n",
        "plt.scatter(x[y_kmeans==3,0],x[y_kmeans==3,1],s=50,c='yellow',label='Cluser 4')\n",
        "plt.scatter(x[y_kmeans==4,0],x[y_kmeans==4,1],s=50,c='magenta',label='Cluser 5')\n",
        "plt.scatter(kmeans.cluster_centers_[:, 0], kmeans.cluster_centers_[:, 1], s = 200, c = 'cyan', label = 'Centroids')\n",
        "\n",
        "plt.title('Hierarchical Clustering')\n",
        "plt.xlabel('Cases')\n",
        "plt.ylabel('Deaths')\n",
        "plt.legend()"
      ],
      "execution_count": 17,
      "outputs": [
        {
          "output_type": "execute_result",
          "data": {
            "text/plain": [
              "<matplotlib.legend.Legend at 0x7ff04d9160d0>"
            ]
          },
          "metadata": {
            "tags": []
          },
          "execution_count": 17
        },
        {
          "output_type": "display_data",
          "data": {
            "image/png": "[encoded data removed]",
            "text/plain": [
              "<Figure size 432x288 with 1 Axes>"
            ]
          },
          "metadata": {
            "tags": [],
            "needs_background": "light"
          }
        }
      ]
    },
    {
      "cell_type": "code",
      "metadata": {
        "id": "ebCKLfsn7zWf"
      },
      "source": [
        ""
      ],
      "execution_count": 17,
      "outputs": []
    }
  ]
}