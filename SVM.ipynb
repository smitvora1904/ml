{
  "nbformat": 4,
  "nbformat_minor": 0,
  "metadata": {
    "colab": {
      "name": "SVM.ipynb",
      "provenance": [],
      "include_colab_link": true
    },
    "kernelspec": {
      "name": "python3",
      "display_name": "Python 3"
    },
    "language_info": {
      "name": "python"
    }
  },
  "cells": [
    {
      "cell_type": "markdown",
      "metadata": {
        "id": "view-in-github",
        "colab_type": "text"
      },
      "source": [
        "<a href=\"https://colab.research.google.com/github/smitvora1904/ml/blob/main/SVM.ipynb\" target=\"_parent\"><img src=\"https://colab.research.google.com/assets/colab-badge.svg\" alt=\"Open In Colab\"/></a>"
      ]
    },
    {
      "cell_type": "code",
      "metadata": {
        "id": "14FJ8ZmjZnNR"
      },
      "source": [
        "import numpy as np\n",
        "import matplotlib.pyplot as plt\n",
        "import seaborn as sns\n",
        "import pandas as pd\n",
        "from sklearn import svm, datasets\n",
        "from sklearn.metrics import classification_report, confusion_matrix\n",
        "from sklearn.metrics import accuracy_score\n"
      ],
      "execution_count": 1,
      "outputs": []
    },
    {
      "cell_type": "code",
      "metadata": {
        "id": "81g0_9tbaq0N"
      },
      "source": [
        "from google.colab import drive #to import google drive data"
      ],
      "execution_count": 2,
      "outputs": []
    },
    {
      "cell_type": "code",
      "metadata": {
        "colab": {
          "base_uri": "https://localhost:8080/"
        },
        "id": "bgk8A7NCar8T",
        "outputId": "e8c3c3fe-dab2-4ca2-800c-7f7e4ebdbfcd"
      },
      "source": [
        "drive.mount('/content/drive') # mount the drive on colab using authentication"
      ],
      "execution_count": 3,
      "outputs": [
        {
          "output_type": "stream",
          "text": [
            "Drive already mounted at /content/drive; to attempt to forcibly remount, call drive.mount(\"/content/drive\", force_remount=True).\n"
          ],
          "name": "stdout"
        }
      ]
    },
    {
      "cell_type": "code",
      "metadata": {
        "colab": {
          "base_uri": "https://localhost:8080/"
        },
        "id": "sY5ZBY4natSW",
        "outputId": "e32f475e-e5c2-493e-80b9-39fd9be931bc"
      },
      "source": [
        "cd /content/drive/\"My Drive/ML nishit sir/SVM\""
      ],
      "execution_count": 4,
      "outputs": [
        {
          "output_type": "stream",
          "text": [
            "/content/drive/My Drive/ML nishit sir/SVM\n"
          ],
          "name": "stdout"
        }
      ]
    },
    {
      "cell_type": "code",
      "metadata": {
        "id": "QVZpSbaSavs2"
      },
      "source": [
        "\n",
        "# import some data to play with\n",
        "iris = datasets.load_iris()\n",
        "X = iris.data[:, :2]  # we only take the first two features. We could\n",
        "                      # avoid this ugly slicing by using a two-dim dataset\n",
        "y = iris.target"
      ],
      "execution_count": 5,
      "outputs": []
    },
    {
      "cell_type": "code",
      "metadata": {
        "colab": {
          "base_uri": "https://localhost:8080/"
        },
        "id": "cRg7BQQ35Abb",
        "outputId": "83f9a072-cb2c-4158-b356-88db1f93e43f"
      },
      "source": [
        "y"
      ],
      "execution_count": 6,
      "outputs": [
        {
          "output_type": "execute_result",
          "data": {
            "text/plain": [
              "array([0, 0, 0, 0, 0, 0, 0, 0, 0, 0, 0, 0, 0, 0, 0, 0, 0, 0, 0, 0, 0, 0,\n",
              "       0, 0, 0, 0, 0, 0, 0, 0, 0, 0, 0, 0, 0, 0, 0, 0, 0, 0, 0, 0, 0, 0,\n",
              "       0, 0, 0, 0, 0, 0, 1, 1, 1, 1, 1, 1, 1, 1, 1, 1, 1, 1, 1, 1, 1, 1,\n",
              "       1, 1, 1, 1, 1, 1, 1, 1, 1, 1, 1, 1, 1, 1, 1, 1, 1, 1, 1, 1, 1, 1,\n",
              "       1, 1, 1, 1, 1, 1, 1, 1, 1, 1, 1, 1, 2, 2, 2, 2, 2, 2, 2, 2, 2, 2,\n",
              "       2, 2, 2, 2, 2, 2, 2, 2, 2, 2, 2, 2, 2, 2, 2, 2, 2, 2, 2, 2, 2, 2,\n",
              "       2, 2, 2, 2, 2, 2, 2, 2, 2, 2, 2, 2, 2, 2, 2, 2, 2, 2])"
            ]
          },
          "metadata": {
            "tags": []
          },
          "execution_count": 6
        }
      ]
    },
    {
      "cell_type": "code",
      "metadata": {
        "id": "lQv_d1Qq5CgY"
      },
      "source": [
        "C = 1  # SVM regularization parameter"
      ],
      "execution_count": 7,
      "outputs": []
    },
    {
      "cell_type": "code",
      "metadata": {
        "colab": {
          "base_uri": "https://localhost:8080/"
        },
        "id": "4IjnLQS95Exn",
        "outputId": "257eeb42-3c0f-44c1-c934-90e96b0627c8"
      },
      "source": [
        "\n",
        "svc = svm.SVC(kernel='linear', C=C).fit(X, y)\n",
        "rbf_svc = svm.SVC(kernel='rbf', gamma=0.5, C=C).fit(X, y)\n",
        "poly_svc = svm.SVC(kernel='poly', degree=5, C=C).fit(X, y)\n",
        "lin_svc = svm.LinearSVC(C=C).fit(X, y)"
      ],
      "execution_count": 8,
      "outputs": [
        {
          "output_type": "stream",
          "text": [
            "/usr/local/lib/python3.7/dist-packages/sklearn/svm/_base.py:947: ConvergenceWarning: Liblinear failed to converge, increase the number of iterations.\n",
            "  \"the number of iterations.\", ConvergenceWarning)\n"
          ],
          "name": "stderr"
        }
      ]
    },
    {
      "cell_type": "code",
      "metadata": {
        "colab": {
          "base_uri": "https://localhost:8080/"
        },
        "id": "deCNrPum5Goh",
        "outputId": "6bf0b576-71ea-4c0d-fb5b-96def47acd44"
      },
      "source": [
        "y_pred = rbf_svc.predict(X)\n",
        "print(\"RBF\", accuracy_score(y,y_pred))\n",
        "\n",
        "y_pred = lin_svc.predict(X)\n",
        "print(\"linear\", accuracy_score(y,y_pred))\n",
        "\n",
        "y_pred=poly_svc.predict(X)\n",
        "print(\"Polynomial\",accuracy_score(y,y_pred))"
      ],
      "execution_count": 9,
      "outputs": [
        {
          "output_type": "stream",
          "text": [
            "RBF 0.8266666666666667\n",
            "linear 0.8\n",
            "Polynomial 0.7933333333333333\n"
          ],
          "name": "stdout"
        }
      ]
    },
    {
      "cell_type": "code",
      "metadata": {
        "colab": {
          "base_uri": "https://localhost:8080/"
        },
        "id": "NW0MLIaR5KBp",
        "outputId": "31c6f755-a6b0-4423-e9a3-2aa7d7552fe0"
      },
      "source": [
        "y_pred = rbf_svc.predict(X)\n",
        "print(\"RBF\", accuracy_score(y,y_pred))\n",
        "\n",
        "print(confusion_matrix(y, y_pred))\n",
        "print(classification_report(y, y_pred))\n",
        "print(accuracy_score(y,y_pred))"
      ],
      "execution_count": 10,
      "outputs": [
        {
          "output_type": "stream",
          "text": [
            "RBF 0.8266666666666667\n",
            "[[50  0  0]\n",
            " [ 0 38 12]\n",
            " [ 0 14 36]]\n",
            "              precision    recall  f1-score   support\n",
            "\n",
            "           0       1.00      1.00      1.00        50\n",
            "           1       0.73      0.76      0.75        50\n",
            "           2       0.75      0.72      0.73        50\n",
            "\n",
            "    accuracy                           0.83       150\n",
            "   macro avg       0.83      0.83      0.83       150\n",
            "weighted avg       0.83      0.83      0.83       150\n",
            "\n",
            "0.8266666666666667\n"
          ],
          "name": "stdout"
        }
      ]
    },
    {
      "cell_type": "code",
      "metadata": {
        "colab": {
          "base_uri": "https://localhost:8080/"
        },
        "id": "ACWfqWig5SmF",
        "outputId": "68542eb7-d33c-4152-b523-d4d3c468423b"
      },
      "source": [
        "y_pred = lin_svc.predict(X)\n",
        "print(confusion_matrix(y, y_pred))\n",
        "print(\"Linear\")\n",
        "print(classification_report(y, y_pred))"
      ],
      "execution_count": 11,
      "outputs": [
        {
          "output_type": "stream",
          "text": [
            "[[49  1  0]\n",
            " [ 2 30 18]\n",
            " [ 0  9 41]]\n",
            "Linear\n",
            "              precision    recall  f1-score   support\n",
            "\n",
            "           0       0.96      0.98      0.97        50\n",
            "           1       0.75      0.60      0.67        50\n",
            "           2       0.69      0.82      0.75        50\n",
            "\n",
            "    accuracy                           0.80       150\n",
            "   macro avg       0.80      0.80      0.80       150\n",
            "weighted avg       0.80      0.80      0.80       150\n",
            "\n"
          ],
          "name": "stdout"
        }
      ]
    },
    {
      "cell_type": "code",
      "metadata": {
        "colab": {
          "base_uri": "https://localhost:8080/"
        },
        "id": "r5BXztEq5VFE",
        "outputId": "530f3d1e-35ae-44a0-d566-709bb70a2a5f"
      },
      "source": [
        "\n",
        "y_pred = poly_svc.predict(X)\n",
        "print(confusion_matrix(y, y_pred))\n",
        "print(\"Polynomial\")\n",
        "print(classification_report(y, y_pred))"
      ],
      "execution_count": 12,
      "outputs": [
        {
          "output_type": "stream",
          "text": [
            "[[50  0  0]\n",
            " [ 0 38 12]\n",
            " [ 0 19 31]]\n",
            "Polynomial\n",
            "              precision    recall  f1-score   support\n",
            "\n",
            "           0       1.00      1.00      1.00        50\n",
            "           1       0.67      0.76      0.71        50\n",
            "           2       0.72      0.62      0.67        50\n",
            "\n",
            "    accuracy                           0.79       150\n",
            "   macro avg       0.80      0.79      0.79       150\n",
            "weighted avg       0.80      0.79      0.79       150\n",
            "\n"
          ],
          "name": "stdout"
        }
      ]
    },
    {
      "cell_type": "code",
      "metadata": {
        "colab": {
          "base_uri": "https://localhost:8080/",
          "height": 278
        },
        "id": "xapSxNEc5W4B",
        "outputId": "169c880a-0f57-4464-c86f-a9a11d89b473"
      },
      "source": [
        "x_min, x_max = X[:, 0].min() - 1, X[:, 0].max() + 1\n",
        "y_min, y_max = X[:, 1].min() - 1, X[:, 1].max() + 1\n",
        "xx, yy = np.meshgrid(np.arange(x_min, x_max, 0.02),\n",
        "                     np.arange(y_min, y_max, 0.02))\n",
        "\n",
        "# title for the plots\n",
        "titles = ['SVC with linear kernel',\n",
        "          'LinearSVC (linear kernel)',\n",
        "          'SVC with RBF kernel (Gamma=0.5)',\n",
        "          'SVC with polynomial (degree 5) kernel']\n",
        "\n",
        "\n",
        "for i, clf in enumerate((svc, lin_svc, rbf_svc, poly_svc)):\n",
        "    plt.subplot(2, 2, i + 1)\n",
        "    plt.subplots_adjust(wspace=0.4, hspace=0.4)\n",
        "\n",
        "    Z = clf.predict(np.c_[xx.ravel(), yy.ravel()])\n",
        "\n",
        "    # Put the result into a color plot\n",
        "    Z = Z.reshape(xx.shape)\n",
        "    plt.contourf(xx, yy, Z, cmap=plt.cm.coolwarm, alpha=0.8)\n",
        "\n",
        "    # Plot also the training points\n",
        "    plt.scatter(X[:, 0], X[:, 1], c=y, cmap=plt.cm.coolwarm)\n",
        "    plt.xlabel('Sepal length')\n",
        "    plt.ylabel('Sepal width')\n",
        "    plt.xlim(xx.min(), xx.max())\n",
        "    plt.ylim(yy.min(), yy.max())\n",
        "    plt.xticks(())\n",
        "    plt.yticks(())\n",
        "    plt.title(titles[i])\n",
        "\n",
        "plt.show()"
      ],
      "execution_count": 13,
      "outputs": [
        {
          "output_type": "display_data",
          "data": {
            "image/png": "[encoded data removed]",
            "text/plain": [
              "<Figure size 432x288 with 4 Axes>"
            ]
          },
          "metadata": {
            "tags": []
          }
        }
      ]
    },
    {
      "cell_type": "code",
      "metadata": {
        "id": "rR03T_3H5bSl"
      },
      "source": [
        ""
      ],
      "execution_count": 13,
      "outputs": []
    }
  ]
}